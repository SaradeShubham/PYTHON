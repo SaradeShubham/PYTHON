{
 "cells": [
  {
   "cell_type": "code",
   "execution_count": 1,
   "id": "e9e0515c-881b-4521-8c6d-4bf0a139ff1b",
   "metadata": {},
   "outputs": [],
   "source": [
    "####Exception Handling"
   ]
  },
  {
   "cell_type": "code",
   "execution_count": 2,
   "id": "02fb02e6-e0c4-4035-85f3-b8dc32af5cd8",
   "metadata": {},
   "outputs": [],
   "source": [
    "##in this we handle Errors Without Chane In progrem"
   ]
  },
  {
   "cell_type": "code",
   "execution_count": 8,
   "id": "23b72b50-0706-405a-9075-1a6536dc0c0c",
   "metadata": {},
   "outputs": [
    {
     "ename": "ZeroDivisionError",
     "evalue": "division by zero",
     "output_type": "error",
     "traceback": [
      "\u001b[31m---------------------------------------------------------------------------\u001b[39m",
      "\u001b[31mZeroDivisionError\u001b[39m                         Traceback (most recent call last)",
      "\u001b[36mCell\u001b[39m\u001b[36m \u001b[39m\u001b[32mIn[8]\u001b[39m\u001b[32m, line 1\u001b[39m\n\u001b[32m----> \u001b[39m\u001b[32m1\u001b[39m \u001b[32;43m2\u001b[39;49m\u001b[43m/\u001b[49m\u001b[32;43m0\u001b[39;49m \u001b[38;5;66;03m##For Example\u001b[39;00m\n",
      "\u001b[31mZeroDivisionError\u001b[39m: division by zero"
     ]
    }
   ],
   "source": [
    "2/0 ##For Example"
   ]
  },
  {
   "cell_type": "code",
   "execution_count": 4,
   "id": "71813dfe-edb4-4a77-a8af-662a4f0a7e48",
   "metadata": {},
   "outputs": [],
   "source": [
    "## For tackle this Error Wthout changing program we can use exception handling method"
   ]
  },
  {
   "cell_type": "code",
   "execution_count": 6,
   "id": "6b2ac502-5949-4e8c-9820-fea4a3349890",
   "metadata": {},
   "outputs": [
    {
     "name": "stdout",
     "output_type": "stream",
     "text": [
      "ZeroDivisiionErro\n"
     ]
    }
   ],
   "source": [
    "try:\n",
    "    print(2/0)\n",
    "except:\n",
    "    print(\"ZeroDivisiionErro\")"
   ]
  },
  {
   "cell_type": "code",
   "execution_count": 7,
   "id": "820bdb62-4135-41da-ac95-09b7cacc4126",
   "metadata": {},
   "outputs": [],
   "source": [
    "### by using this we get an output without chsne in program"
   ]
  },
  {
   "cell_type": "code",
   "execution_count": 9,
   "id": "f4f4b5d2-9ca0-4ec0-88fb-eef13f8da625",
   "metadata": {},
   "outputs": [],
   "source": [
    "#### type Error"
   ]
  },
  {
   "cell_type": "code",
   "execution_count": 10,
   "id": "0772b666-c8e9-4ba3-bf43-91200008daea",
   "metadata": {},
   "outputs": [
    {
     "name": "stdin",
     "output_type": "stream",
     "text": [
      " 22\n"
     ]
    },
    {
     "ename": "TypeError",
     "evalue": "can only concatenate str (not \"int\") to str",
     "output_type": "error",
     "traceback": [
      "\u001b[31m---------------------------------------------------------------------------\u001b[39m",
      "\u001b[31mTypeError\u001b[39m                                 Traceback (most recent call last)",
      "\u001b[36mCell\u001b[39m\u001b[36m \u001b[39m\u001b[32mIn[10]\u001b[39m\u001b[32m, line 1\u001b[39m\n\u001b[32m----> \u001b[39m\u001b[32m1\u001b[39m \u001b[38;5;28;43minput\u001b[39;49m\u001b[43m(\u001b[49m\u001b[43m)\u001b[49m\u001b[43m+\u001b[49m\u001b[32;43m2\u001b[39;49m\n",
      "\u001b[31mTypeError\u001b[39m: can only concatenate str (not \"int\") to str"
     ]
    }
   ],
   "source": [
    "input()+2"
   ]
  },
  {
   "cell_type": "code",
   "execution_count": 11,
   "id": "86836b8a-41c1-4927-a656-e5949b8332c1",
   "metadata": {},
   "outputs": [],
   "source": [
    "###For this"
   ]
  },
  {
   "cell_type": "code",
   "execution_count": 12,
   "id": "073e57f6-9c2e-4ace-9215-50411328c70a",
   "metadata": {},
   "outputs": [
    {
     "name": "stdin",
     "output_type": "stream",
     "text": [
      " 22\n"
     ]
    },
    {
     "name": "stdout",
     "output_type": "stream",
     "text": [
      "TypeErro\n"
     ]
    }
   ],
   "source": [
    "try:\n",
    "    print(2+input())\n",
    "except:\n",
    "    print(\"TypeErro\")"
   ]
  },
  {
   "cell_type": "code",
   "execution_count": null,
   "id": "31be58db-45e9-4174-8791-20c5fda33b56",
   "metadata": {},
   "outputs": [],
   "source": [
    "### else====\n"
   ]
  },
  {
   "cell_type": "code",
   "execution_count": 17,
   "id": "58835f19-c6d9-4ec0-9ce4-884aae0f7617",
   "metadata": {},
   "outputs": [
    {
     "name": "stdout",
     "output_type": "stream",
     "text": [
      "5\n",
      "else block is exicuted\n"
     ]
    }
   ],
   "source": [
    "try:\n",
    "    print(2+3)\n",
    "except:\n",
    "    print(\"except block is excuted\")\n",
    "else:\n",
    "    print(\"else block is exicuted\")"
   ]
  },
  {
   "cell_type": "code",
   "execution_count": 18,
   "id": "e6ddeccf-6413-4438-b86a-c81b3d40d178",
   "metadata": {},
   "outputs": [],
   "source": [
    "## in this always try or except will exicuted"
   ]
  },
  {
   "cell_type": "code",
   "execution_count": 19,
   "id": "aa5606ec-7c26-4284-a25d-f63f049e550c",
   "metadata": {},
   "outputs": [],
   "source": [
    "## If else is there except is  not part of the output"
   ]
  },
  {
   "cell_type": "code",
   "execution_count": 20,
   "id": "aa7c8d0e-a89a-4e1c-ba36-2d92059caf2e",
   "metadata": {},
   "outputs": [],
   "source": [
    "## If except is there else is  not part of the output"
   ]
  },
  {
   "cell_type": "code",
   "execution_count": 21,
   "id": "aa8aa535-f080-4358-9b69-5954d1194ac6",
   "metadata": {},
   "outputs": [
    {
     "name": "stdout",
     "output_type": "stream",
     "text": [
      "except block is excuted\n"
     ]
    }
   ],
   "source": [
    "try:\n",
    "    print(2/0)\n",
    "except:\n",
    "    print(\"except block is excuted\")\n",
    "else:\n",
    "    print(\"else block is exicuted\")"
   ]
  },
  {
   "cell_type": "code",
   "execution_count": 22,
   "id": "3d8a1c61-57e6-4c2b-817a-58d34041f37e",
   "metadata": {},
   "outputs": [],
   "source": [
    "###Finally====="
   ]
  },
  {
   "cell_type": "code",
   "execution_count": 23,
   "id": "5cfb0901-f0ab-4166-b249-1c1894d38f20",
   "metadata": {},
   "outputs": [],
   "source": [
    "### If we use finally is alway the part of  output "
   ]
  },
  {
   "cell_type": "code",
   "execution_count": 24,
   "id": "8d69020c-0499-4b3d-b2ec-ba96e770f633",
   "metadata": {},
   "outputs": [
    {
     "name": "stdout",
     "output_type": "stream",
     "text": [
      "except block is excuted\n",
      "finally is always printed\n"
     ]
    }
   ],
   "source": [
    "try:\n",
    "    print(2/0)\n",
    "except:\n",
    "    print(\"except block is excuted\")\n",
    "else:\n",
    "    print(\"else block is exicuted\")\n",
    "finally:\n",
    "    print(\"finally is always printed\")"
   ]
  },
  {
   "cell_type": "code",
   "execution_count": 25,
   "id": "6b3141f8-dd63-4088-8ba5-7b08cf55a798",
   "metadata": {},
   "outputs": [
    {
     "name": "stdout",
     "output_type": "stream",
     "text": [
      "5\n",
      "else block is exicuted\n",
      "finally is always printed\n"
     ]
    }
   ],
   "source": [
    "try:\n",
    "    print(2+3)\n",
    "except:\n",
    "    print(\"except block is excuted\")\n",
    "else:\n",
    "    print(\"else block is exicuted\")\n",
    "finally:\n",
    "    print(\"finally is always printed\")"
   ]
  },
  {
   "cell_type": "code",
   "execution_count": null,
   "id": "b12b017a-f152-4006-89fa-d2fd0f313b03",
   "metadata": {},
   "outputs": [],
   "source": [
    "  "
   ]
  },
  {
   "cell_type": "code",
   "execution_count": 27,
   "id": "a6e1a696-827d-465b-9c19-5e398a6863f1",
   "metadata": {},
   "outputs": [
    {
     "name": "stdout",
     "output_type": "stream",
     "text": [
      "Division Result: 5.0\n",
      "Operation Complete\n",
      "\n"
     ]
    }
   ],
   "source": [
    "try:\n",
    "    a,b = 10,2\n",
    "    result =a/b\n",
    "except:\n",
    "    print(\"can not devided by Zero\")\n",
    "else:\n",
    "    print(\"Division Result:\",result)\n",
    "finally:\n",
    "    print(\"Operation Complete\\n\")"
   ]
  },
  {
   "cell_type": "code",
   "execution_count": 28,
   "id": "f854e7af-9c60-4afa-a19c-24d0ef1f61c1",
   "metadata": {},
   "outputs": [
    {
     "name": "stdout",
     "output_type": "stream",
     "text": [
      "can not devided by Zero\n",
      "Operation Complete\n",
      "\n"
     ]
    }
   ],
   "source": [
    "try:\n",
    "    a,b = 10,0\n",
    "    result =a/b\n",
    "except:\n",
    "    print(\"can not devided by Zero\")\n",
    "else:\n",
    "    print(\"Division Result:\",result)\n",
    "finally:\n",
    "    print(\"Operation Complete\\n\")"
   ]
  },
  {
   "cell_type": "code",
   "execution_count": null,
   "id": "01d855e9-f9ee-4bb6-81b9-e6427cfa9f5c",
   "metadata": {},
   "outputs": [],
   "source": [
    "  "
   ]
  },
  {
   "cell_type": "code",
   "execution_count": 29,
   "id": "e5b7c5b8-dc5c-4494-8163-a599df1fd32e",
   "metadata": {},
   "outputs": [
    {
     "name": "stdout",
     "output_type": "stream",
     "text": [
      "Converted: 133\n",
      "Conversion Attempt Finished\n",
      "\n"
     ]
    }
   ],
   "source": [
    "try:\n",
    "    value= int(\"123\")\n",
    "except:\n",
    "    print(\"Invalid integer\")\n",
    "else:\n",
    "    print(\"Converted:\", value+10)\n",
    "finally:\n",
    "    print(\"Conversion Attempt Finished\\n\")"
   ]
  },
  {
   "cell_type": "code",
   "execution_count": 32,
   "id": "fb54768f-76e2-4ded-afdd-a05ddf3ffce1",
   "metadata": {},
   "outputs": [
    {
     "name": "stdout",
     "output_type": "stream",
     "text": [
      "Invalid integer\n",
      "Conversion Attempt Finished\n",
      "\n"
     ]
    }
   ],
   "source": [
    "try:\n",
    "    value= int(\"abc\")\n",
    "except:\n",
    "    print(\"Invalid integer\")\n",
    "else:\n",
    "    print(\"Converted:\", value+ abc)\n",
    "finally:\n",
    "    print(\"Conversion Attempt Finished\\n\")"
   ]
  },
  {
   "cell_type": "code",
   "execution_count": null,
   "id": "184115cb-c1b2-47ad-8fe9-bb2a0e6be1e1",
   "metadata": {},
   "outputs": [],
   "source": []
  },
  {
   "cell_type": "code",
   "execution_count": 34,
   "id": "2319d242-00a9-4735-a309-7707e7ea8456",
   "metadata": {},
   "outputs": [
    {
     "name": "stdout",
     "output_type": "stream",
     "text": [
      "power: 32\n",
      "Computation Completed\n",
      "\n"
     ]
    }
   ],
   "source": [
    "try:\n",
    "    base,exp= 2,5\n",
    "    result = base**exp\n",
    "except Exception as e:\n",
    "    print(\"Error:\",e)\n",
    "else:\n",
    "    print(\"power:\", result)\n",
    "finally:\n",
    "    print('Computation Completed\\n')\n",
    "    \n"
   ]
  },
  {
   "cell_type": "code",
   "execution_count": 35,
   "id": "7323927e-d653-493d-ae3f-fa7d324dabad",
   "metadata": {},
   "outputs": [],
   "source": [
    "#### Exception= Errror"
   ]
  },
  {
   "cell_type": "code",
   "execution_count": 2,
   "id": "b62c07b8-1f69-4c51-a214-4dfdea0899b5",
   "metadata": {},
   "outputs": [
    {
     "ename": "IndexError",
     "evalue": "list index out of range",
     "output_type": "error",
     "traceback": [
      "\u001b[31m---------------------------------------------------------------------------\u001b[39m",
      "\u001b[31mIndexError\u001b[39m                                Traceback (most recent call last)",
      "\u001b[36mCell\u001b[39m\u001b[36m \u001b[39m\u001b[32mIn[2]\u001b[39m\u001b[32m, line 2\u001b[39m\n\u001b[32m      1\u001b[39m result=[\u001b[32m1\u001b[39m,\u001b[32m2\u001b[39m,\u001b[32m3\u001b[39m,\u001b[32m4\u001b[39m,]\n\u001b[32m----> \u001b[39m\u001b[32m2\u001b[39m \u001b[43mresult\u001b[49m\u001b[43m[\u001b[49m\u001b[32;43m20\u001b[39;49m\u001b[43m]\u001b[49m\n",
      "\u001b[31mIndexError\u001b[39m: list index out of range"
     ]
    }
   ],
   "source": [
    "result=[1,2,3,4,]\n",
    "result[20]"
   ]
  },
  {
   "cell_type": "code",
   "execution_count": 4,
   "id": "bde87c45-c93a-4ee3-a281-7a65373dceb3",
   "metadata": {},
   "outputs": [
    {
     "name": "stdout",
     "output_type": "stream",
     "text": [
      "Error list index out of range\n"
     ]
    }
   ],
   "source": [
    "try:\n",
    "    result=[1,2,3,4]\n",
    "    print(result[20])\n",
    "except IndexError as e:\n",
    "    print(\"Error\",e)\n",
    "    "
   ]
  },
  {
   "cell_type": "code",
   "execution_count": 5,
   "id": "e02b6f26-69ea-4539-97ef-ff8303c4039c",
   "metadata": {},
   "outputs": [
    {
     "data": {
      "text/plain": [
       "[]"
      ]
     },
     "execution_count": 5,
     "metadata": {},
     "output_type": "execute_result"
    }
   ],
   "source": [
    "result=[1,2,3,4,]\n",
    "result[20:30]"
   ]
  },
  {
   "cell_type": "code",
   "execution_count": 6,
   "id": "c6434324-cd05-464a-ae1a-81db5836dcb0",
   "metadata": {},
   "outputs": [
    {
     "name": "stdout",
     "output_type": "stream",
     "text": [
      "Output\n"
     ]
    }
   ],
   "source": [
    "try:\n",
    "    result=[1,2,3,4]\n",
    "    print(2/0)\n",
    "    print(result[20])\n",
    "except IndexError as e:\n",
    "    print(\"Error\",e)\n",
    "except:\n",
    "    print(\"Output\")"
   ]
  },
  {
   "cell_type": "code",
   "execution_count": 7,
   "id": "47ee93ac-3840-4d7d-91e1-f9fc3d55c7ac",
   "metadata": {},
   "outputs": [],
   "source": [
    " ###KeyError"
   ]
  },
  {
   "cell_type": "code",
   "execution_count": 8,
   "id": "f68e95ec-d513-495b-9d1f-26093b94eb9d",
   "metadata": {},
   "outputs": [
    {
     "ename": "NameError",
     "evalue": "name 'e' is not defined",
     "output_type": "error",
     "traceback": [
      "\u001b[31m---------------------------------------------------------------------------\u001b[39m",
      "\u001b[31mKeyError\u001b[39m                                  Traceback (most recent call last)",
      "\u001b[36mCell\u001b[39m\u001b[36m \u001b[39m\u001b[32mIn[8]\u001b[39m\u001b[32m, line 3\u001b[39m\n\u001b[32m      2\u001b[39m     d={\u001b[33m\"\u001b[39m\u001b[33ma\u001b[39m\u001b[33m\"\u001b[39m:\u001b[32m1\u001b[39m}\n\u001b[32m----> \u001b[39m\u001b[32m3\u001b[39m     \u001b[38;5;28mprint\u001b[39m(\u001b[43md\u001b[49m\u001b[43m[\u001b[49m\u001b[33;43m\"\u001b[39;49m\u001b[33;43mb\u001b[39;49m\u001b[33;43m\"\u001b[39;49m\u001b[43m]\u001b[49m)\n\u001b[32m      4\u001b[39m \u001b[38;5;28;01mexcept\u001b[39;00m:\n",
      "\u001b[31mKeyError\u001b[39m: 'b'",
      "\nDuring handling of the above exception, another exception occurred:\n",
      "\u001b[31mNameError\u001b[39m                                 Traceback (most recent call last)",
      "\u001b[36mCell\u001b[39m\u001b[36m \u001b[39m\u001b[32mIn[8]\u001b[39m\u001b[32m, line 5\u001b[39m\n\u001b[32m      3\u001b[39m     \u001b[38;5;28mprint\u001b[39m(d[\u001b[33m\"\u001b[39m\u001b[33mb\u001b[39m\u001b[33m\"\u001b[39m])\n\u001b[32m      4\u001b[39m \u001b[38;5;28;01mexcept\u001b[39;00m:\n\u001b[32m----> \u001b[39m\u001b[32m5\u001b[39m     \u001b[38;5;28mprint\u001b[39m(\u001b[33m\"\u001b[39m\u001b[33mError\u001b[39m\u001b[33m\"\u001b[39m,\u001b[43me\u001b[49m)\n",
      "\u001b[31mNameError\u001b[39m: name 'e' is not defined"
     ]
    }
   ],
   "source": [
    "try:\n",
    "    d={\"a\":1}\n",
    "    print(d[\"b\"])\n",
    "except:\n",
    "    print(\"Error\",e)"
   ]
  },
  {
   "cell_type": "code",
   "execution_count": 11,
   "id": "162e7d23-9903-4687-8229-ce30ecee008b",
   "metadata": {},
   "outputs": [
    {
     "name": "stdout",
     "output_type": "stream",
     "text": [
      "Error 'b'\n"
     ]
    }
   ],
   "source": [
    "try:\n",
    "    d={\"a\":1}\n",
    "    print(d[\"b\"])\n",
    "except KeyError as e:\n",
    "    print(\"Error\",e)"
   ]
  },
  {
   "cell_type": "code",
   "execution_count": null,
   "id": "c5bc7606-57d3-46a0-bf87-d9b3a63d6877",
   "metadata": {},
   "outputs": [],
   "source": [
    "###AttributeError "
   ]
  },
  {
   "cell_type": "code",
   "execution_count": 12,
   "id": "962ccf55-6413-4393-83e1-267659772126",
   "metadata": {},
   "outputs": [
    {
     "ename": "AttributeError",
     "evalue": "'int' object has no attribute 'append'",
     "output_type": "error",
     "traceback": [
      "\u001b[31m---------------------------------------------------------------------------\u001b[39m",
      "\u001b[31mAttributeError\u001b[39m                            Traceback (most recent call last)",
      "\u001b[36mCell\u001b[39m\u001b[36m \u001b[39m\u001b[32mIn[12]\u001b[39m\u001b[32m, line 2\u001b[39m\n\u001b[32m      1\u001b[39m x=\u001b[32m20\u001b[39m\n\u001b[32m----> \u001b[39m\u001b[32m2\u001b[39m \u001b[43mx\u001b[49m\u001b[43m.\u001b[49m\u001b[43mappend\u001b[49m(\u001b[32m5\u001b[39m)\n",
      "\u001b[31mAttributeError\u001b[39m: 'int' object has no attribute 'append'"
     ]
    }
   ],
   "source": [
    "x=20\n",
    "x.append(5)"
   ]
  },
  {
   "cell_type": "code",
   "execution_count": 13,
   "id": "e12ac251-4b90-46a4-a37b-697974786016",
   "metadata": {
    "jupyter": {
     "source_hidden": true
    }
   },
   "outputs": [
    {
     "name": "stdout",
     "output_type": "stream",
     "text": [
      "Error 'int' object has no attribute 'append'\n"
     ]
    }
   ],
   "source": [
    "try:\n",
    "    x=20\n",
    "    x.append(5)\n",
    "except AttributeError as e:\n",
    "    print(\"Error\",e)"
   ]
  },
  {
   "cell_type": "code",
   "execution_count": null,
   "id": "9bf9c7e7-2de0-4481-8749-f7c6317146a1",
   "metadata": {},
   "outputs": [],
   "source": [
    "###ModuleNotFoundError\n"
   ]
  },
  {
   "cell_type": "code",
   "execution_count": 14,
   "id": "dc4b925e-16c6-4c80-b1d9-d3163b0fe62a",
   "metadata": {},
   "outputs": [
    {
     "ename": "ModuleNotFoundError",
     "evalue": "No module named 'nomodule'",
     "output_type": "error",
     "traceback": [
      "\u001b[31m---------------------------------------------------------------------------\u001b[39m",
      "\u001b[31mModuleNotFoundError\u001b[39m                       Traceback (most recent call last)",
      "\u001b[36mCell\u001b[39m\u001b[36m \u001b[39m\u001b[32mIn[14]\u001b[39m\u001b[32m, line 1\u001b[39m\n\u001b[32m----> \u001b[39m\u001b[32m1\u001b[39m \u001b[38;5;28;01mimport\u001b[39;00m\u001b[38;5;250m \u001b[39m\u001b[34;01mnomodule\u001b[39;00m\n",
      "\u001b[31mModuleNotFoundError\u001b[39m: No module named 'nomodule'"
     ]
    }
   ],
   "source": [
    "import nomodule"
   ]
  },
  {
   "cell_type": "code",
   "execution_count": 15,
   "id": "335e6084-4dde-4291-bd5a-43ea0309470d",
   "metadata": {},
   "outputs": [
    {
     "name": "stdout",
     "output_type": "stream",
     "text": [
      "Error No module named 'nomodule'\n"
     ]
    }
   ],
   "source": [
    "try:\n",
    "    import nomodule\n",
    "except ModuleNotFoundError as e:\n",
    "    print(\"Error\",e)"
   ]
  },
  {
   "cell_type": "code",
   "execution_count": null,
   "id": "b8fb6fe4-2aae-454d-b871-fed75089de3f",
   "metadata": {},
   "outputs": [],
   "source": [
    "####MemoryError"
   ]
  },
  {
   "cell_type": "code",
   "execution_count": 19,
   "id": "a3cd2044-167c-4b79-aa4a-d3601e140d7b",
   "metadata": {},
   "outputs": [
    {
     "ename": "MemoryError",
     "evalue": "",
     "output_type": "error",
     "traceback": [
      "\u001b[31m---------------------------------------------------------------------------\u001b[39m",
      "\u001b[31mMemoryError\u001b[39m                               Traceback (most recent call last)",
      "\u001b[36mCell\u001b[39m\u001b[36m \u001b[39m\u001b[32mIn[19]\u001b[39m\u001b[32m, line 1\u001b[39m\n\u001b[32m----> \u001b[39m\u001b[32m1\u001b[39m \u001b[43m[\u001b[49m\u001b[32;43m1\u001b[39;49m\u001b[43m]\u001b[49m\u001b[43m*\u001b[49m\u001b[32;43m1000000000000\u001b[39;49m\n",
      "\u001b[31mMemoryError\u001b[39m: "
     ]
    }
   ],
   "source": [
    "[1]*1000000000000"
   ]
  },
  {
   "cell_type": "code",
   "execution_count": 21,
   "id": "e316f66e-3a1e-4cce-8c32-b97ce2174bfb",
   "metadata": {},
   "outputs": [
    {
     "name": "stdout",
     "output_type": "stream",
     "text": [
      "Error \n"
     ]
    }
   ],
   "source": [
    "try:\n",
    "    output=[1]*100000000000000\n",
    "except MemoryError as e:\n",
    "    print(\"Error\",e)"
   ]
  },
  {
   "cell_type": "code",
   "execution_count": null,
   "id": "6fc65d99-7adf-41f2-af81-acd3cdf268bc",
   "metadata": {},
   "outputs": [],
   "source": [
    "###OverFlowError===math range error  "
   ]
  },
  {
   "cell_type": "code",
   "execution_count": 25,
   "id": "dbefd0bd-f50a-4933-aef6-4df589f5e97f",
   "metadata": {},
   "outputs": [
    {
     "ename": "OverflowError",
     "evalue": "math range error",
     "output_type": "error",
     "traceback": [
      "\u001b[31m---------------------------------------------------------------------------\u001b[39m",
      "\u001b[31mOverflowError\u001b[39m                             Traceback (most recent call last)",
      "\u001b[36mCell\u001b[39m\u001b[36m \u001b[39m\u001b[32mIn[25]\u001b[39m\u001b[32m, line 2\u001b[39m\n\u001b[32m      1\u001b[39m \u001b[38;5;28;01mimport\u001b[39;00m\u001b[38;5;250m \u001b[39m\u001b[34;01mmath\u001b[39;00m\n\u001b[32m----> \u001b[39m\u001b[32m2\u001b[39m \u001b[38;5;28mprint\u001b[39m(\u001b[43mmath\u001b[49m\u001b[43m.\u001b[49m\u001b[43mexp\u001b[49m\u001b[43m(\u001b[49m\u001b[32;43m1000\u001b[39;49m\u001b[43m)\u001b[49m)\n",
      "\u001b[31mOverflowError\u001b[39m: math range error"
     ]
    }
   ],
   "source": [
    "import math\n",
    "print(math.exp(1000))"
   ]
  },
  {
   "cell_type": "code",
   "execution_count": 26,
   "id": "3aff9cfa-cecf-4b3e-868a-cda7db4ce3f9",
   "metadata": {},
   "outputs": [
    {
     "name": "stdout",
     "output_type": "stream",
     "text": [
      "Error math range error\n"
     ]
    }
   ],
   "source": [
    "try:\n",
    "    import math\n",
    "    print(math.exp(1000))\n",
    "except OverflowError as e:\n",
    "    print(\"Error\",e)\n"
   ]
  },
  {
   "cell_type": "code",
   "execution_count": 27,
   "id": "c3930bba-7eff-434f-9225-09d9620e116a",
   "metadata": {},
   "outputs": [],
   "source": [
    "###RecursionError"
   ]
  },
  {
   "cell_type": "code",
   "execution_count": 28,
   "id": "04c8d1b6-57e4-4ed0-b2c3-d017820e1913",
   "metadata": {},
   "outputs": [
    {
     "name": "stdout",
     "output_type": "stream",
     "text": [
      "Error maximum recursion depth exceeded\n"
     ]
    }
   ],
   "source": [
    "def f1():\n",
    "    return f1()\n",
    "try:\n",
    "    f1()\n",
    "except RecursionError as e:\n",
    "    print(\"Error\",e)"
   ]
  },
  {
   "cell_type": "code",
   "execution_count": 29,
   "id": "594f175e-99a4-42c3-a15c-e7bdc5ce35e3",
   "metadata": {},
   "outputs": [],
   "source": [
    "###NameError===IndentationError==SyntaxError"
   ]
  },
  {
   "cell_type": "code",
   "execution_count": 30,
   "id": "dcb78c9a-4384-4209-8c83-758a02a7a614",
   "metadata": {},
   "outputs": [
    {
     "name": "stdout",
     "output_type": "stream",
     "text": [
      "text\n"
     ]
    }
   ],
   "source": [
    " if x>5:\n",
    "     print(\"text\")"
   ]
  },
  {
   "cell_type": "code",
   "execution_count": 32,
   "id": "c851edde-4c09-4b39-a8a1-5c58794f5ed1",
   "metadata": {},
   "outputs": [
    {
     "ename": "IndentationError",
     "evalue": "unexpected indent (3828271753.py, line 1)",
     "output_type": "error",
     "traceback": [
      "  \u001b[36mCell\u001b[39m\u001b[36m \u001b[39m\u001b[32mIn[32]\u001b[39m\u001b[32m, line 1\u001b[39m\n\u001b[31m    \u001b[39m\u001b[31mif x>5:\u001b[39m\n    ^\n\u001b[31mIndentationError\u001b[39m\u001b[31m:\u001b[39m unexpected indent\n"
     ]
    }
   ],
   "source": [
    " if x>5:\n",
    "print(\"text\")"
   ]
  },
  {
   "cell_type": "code",
   "execution_count": 36,
   "id": "0a39d96b-6bab-47b0-a435-044e53cb6d81",
   "metadata": {},
   "outputs": [
    {
     "ename": "SyntaxError",
     "evalue": "Missing parentheses in call to 'print'. Did you mean print(...)? (143542135.py, line 2)",
     "output_type": "error",
     "traceback": [
      "  \u001b[36mCell\u001b[39m\u001b[36m \u001b[39m\u001b[32mIn[36]\u001b[39m\u001b[32m, line 2\u001b[39m\n\u001b[31m    \u001b[39m\u001b[31mprint\"text\"\u001b[39m\n    ^\n\u001b[31mSyntaxError\u001b[39m\u001b[31m:\u001b[39m Missing parentheses in call to 'print'. Did you mean print(...)?\n"
     ]
    }
   ],
   "source": [
    " if x>5:\n",
    "        print\"text\""
   ]
  },
  {
   "cell_type": "code",
   "execution_count": 37,
   "id": "e1a49c7b-df6a-42c7-a768-87cc64c65539",
   "metadata": {},
   "outputs": [],
   "source": [
    "####UnboundLocalError"
   ]
  },
  {
   "cell_type": "code",
   "execution_count": 38,
   "id": "c70c9632-0801-45f7-bb3b-aada31bf7e78",
   "metadata": {},
   "outputs": [
    {
     "ename": "NameError",
     "evalue": "name 'e' is not defined",
     "output_type": "error",
     "traceback": [
      "\u001b[31m---------------------------------------------------------------------------\u001b[39m",
      "\u001b[31mUnboundLocalError\u001b[39m                         Traceback (most recent call last)",
      "\u001b[36mCell\u001b[39m\u001b[36m \u001b[39m\u001b[32mIn[38]\u001b[39m\u001b[32m, line 3\u001b[39m, in \u001b[36mfunction1\u001b[39m\u001b[34m()\u001b[39m\n\u001b[32m      2\u001b[39m \u001b[38;5;28;01mtry\u001b[39;00m:\n\u001b[32m----> \u001b[39m\u001b[32m3\u001b[39m     \u001b[38;5;28mprint\u001b[39m(\u001b[43mx\u001b[49m)\n\u001b[32m      4\u001b[39m     x=\u001b[32m10\u001b[39m\n",
      "\u001b[31mUnboundLocalError\u001b[39m: cannot access local variable 'x' where it is not associated with a value",
      "\nDuring handling of the above exception, another exception occurred:\n",
      "\u001b[31mNameError\u001b[39m                                 Traceback (most recent call last)",
      "\u001b[36mCell\u001b[39m\u001b[36m \u001b[39m\u001b[32mIn[38]\u001b[39m\u001b[32m, line 7\u001b[39m\n\u001b[32m      5\u001b[39m     \u001b[38;5;28;01mexcept\u001b[39;00m:\n\u001b[32m      6\u001b[39m         \u001b[38;5;28mprint\u001b[39m(e)\n\u001b[32m----> \u001b[39m\u001b[32m7\u001b[39m \u001b[43mfunction1\u001b[49m\u001b[43m(\u001b[49m\u001b[43m)\u001b[49m\n",
      "\u001b[36mCell\u001b[39m\u001b[36m \u001b[39m\u001b[32mIn[38]\u001b[39m\u001b[32m, line 6\u001b[39m, in \u001b[36mfunction1\u001b[39m\u001b[34m()\u001b[39m\n\u001b[32m      4\u001b[39m     x=\u001b[32m10\u001b[39m\n\u001b[32m      5\u001b[39m \u001b[38;5;28;01mexcept\u001b[39;00m:\n\u001b[32m----> \u001b[39m\u001b[32m6\u001b[39m     \u001b[38;5;28mprint\u001b[39m(\u001b[43me\u001b[49m)\n",
      "\u001b[31mNameError\u001b[39m: name 'e' is not defined"
     ]
    }
   ],
   "source": [
    "def function1():\n",
    "    try:\n",
    "        print(x)\n",
    "        x=10\n",
    "    except:\n",
    "        print(e)\n",
    "function1()"
   ]
  },
  {
   "cell_type": "code",
   "execution_count": 39,
   "id": "fa11496f-d3ed-48ce-ab7c-630cb138a3aa",
   "metadata": {},
   "outputs": [
    {
     "name": "stdout",
     "output_type": "stream",
     "text": [
      "cannot access local variable 'x' where it is not associated with a value\n"
     ]
    }
   ],
   "source": [
    "def function1():\n",
    "    try:\n",
    "        print(x)\n",
    "        x=10\n",
    "    except UnboundLocalError as e:\n",
    "        print(e)\n",
    "function1()"
   ]
  },
  {
   "cell_type": "code",
   "execution_count": 40,
   "id": "d073d8b4-53af-4fa3-aa12-e4c22c3836c6",
   "metadata": {},
   "outputs": [
    {
     "name": "stdout",
     "output_type": "stream",
     "text": [
      "20\n"
     ]
    }
   ],
   "source": [
    "def function1():\n",
    "    x=20\n",
    "    try:\n",
    "        print(x)\n",
    "        x=10\n",
    "    except UnboundLocalError as e:\n",
    "        print(e)\n",
    "function1()"
   ]
  },
  {
   "cell_type": "code",
   "execution_count": 41,
   "id": "452f069c-63c4-480c-aa77-485887fd9ce7",
   "metadata": {},
   "outputs": [],
   "source": [
    "#### Permissio Error"
   ]
  },
  {
   "cell_type": "code",
   "execution_count": 42,
   "id": "95b9006e-7c61-4432-b10a-ace56963b000",
   "metadata": {},
   "outputs": [],
   "source": [
    "### EndOftheFile erro===EOF"
   ]
  },
  {
   "cell_type": "code",
   "execution_count": null,
   "id": "dfb86cce-83ba-4662-b66e-b9b9487589b1",
   "metadata": {},
   "outputs": [],
   "source": []
  },
  {
   "cell_type": "code",
   "execution_count": null,
   "id": "60b80247-ea4d-4871-b90b-4944f752ccd0",
   "metadata": {},
   "outputs": [],
   "source": []
  },
  {
   "cell_type": "code",
   "execution_count": null,
   "id": "dad339bc-7a83-42a7-bd98-a68d90d3290b",
   "metadata": {},
   "outputs": [],
   "source": []
  },
  {
   "cell_type": "code",
   "execution_count": null,
   "id": "8346195e-729e-4323-896a-b1804235adc0",
   "metadata": {},
   "outputs": [],
   "source": []
  }
 ],
 "metadata": {
  "kernelspec": {
   "display_name": "Python 3 (ipykernel)",
   "language": "python",
   "name": "python3"
  },
  "language_info": {
   "codemirror_mode": {
    "name": "ipython",
    "version": 3
   },
   "file_extension": ".py",
   "mimetype": "text/x-python",
   "name": "python",
   "nbconvert_exporter": "python",
   "pygments_lexer": "ipython3",
   "version": "3.13.7"
  }
 },
 "nbformat": 4,
 "nbformat_minor": 5
}
