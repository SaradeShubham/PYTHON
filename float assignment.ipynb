{
 "cells": [
  {
   "cell_type": "code",
   "execution_count": 1,
   "id": "12c048c4-49ef-466d-b09a-ba183aedf0fc",
   "metadata": {},
   "outputs": [
    {
     "name": "stdout",
     "output_type": "stream",
     "text": [
      "Question 1: Calculate the average of 3.14, 2.718, 1.618, 0.577\n"
     ]
    }
   ],
   "source": [
    "print(\"Question 1: Calculate the average of 3.14, 2.718, 1.618, 0.577\")"
   ]
  },
  {
   "cell_type": "code",
   "execution_count": 2,
   "id": "a99638cb-6b91-4125-89f6-b1e0a888cddc",
   "metadata": {},
   "outputs": [
    {
     "data": {
      "text/plain": [
       "2.01325"
      ]
     },
     "execution_count": 2,
     "metadata": {},
     "output_type": "execute_result"
    }
   ],
   "source": [
    "x=[3.14, 2.718, 1.618, 0.577]\n",
    "sum(x)/4"
   ]
  },
  {
   "cell_type": "code",
   "execution_count": 3,
   "id": "ecd03e43-622a-4eff-9e67-6a9c73db650b",
   "metadata": {},
   "outputs": [
    {
     "name": "stdout",
     "output_type": "stream",
     "text": [
      "\n",
      "Question 2: Convert 98.6 Fahrenheit to Celsius\n"
     ]
    }
   ],
   "source": [
    "# Question 2: Convert 98.6 Fahrenheit to Celsius (F = C * 9/5 + 32)\n",
    "print(\"\\nQuestion 2: Convert 98.6 Fahrenheit to Celsius\")"
   ]
  },
  {
   "cell_type": "code",
   "execution_count": 4,
   "id": "0ed02ac9-aab1-4458-a4ff-d62246608076",
   "metadata": {},
   "outputs": [
    {
     "data": {
      "text/plain": [
       "37.0"
      ]
     },
     "execution_count": 4,
     "metadata": {},
     "output_type": "execute_result"
    }
   ],
   "source": [
    "f=98.6\n",
    "c=(f-32)*5/9\n",
    "c"
   ]
  },
  {
   "cell_type": "code",
   "execution_count": 5,
   "id": "86931549-2d3e-4fad-9138-a432d66ebcb8",
   "metadata": {},
   "outputs": [
    {
     "name": "stdout",
     "output_type": "stream",
     "text": [
      "\n",
      "Question 3: Calculate compound interest on $1000 at 5.5% for 3 years\n"
     ]
    }
   ],
   "source": [
    "# Question 3: Calculate the compound interest on $1000 at 5.5% for 3 years\n",
    "print(\"\\nQuestion 3: Calculate compound interest on $1000 at 5.5% for 3 years\")"
   ]
  },
  {
   "cell_type": "code",
   "execution_count": 10,
   "id": "b7422881-e90e-4a60-bd83-1f5206c35fec",
   "metadata": {},
   "outputs": [
    {
     "name": "stdout",
     "output_type": "stream",
     "text": [
      "1175.9117038750005\n",
      "175.9117038750005\n"
     ]
    }
   ],
   "source": [
    "p=1000\n",
    "t=3\n",
    "r=5.55/100\n",
    "n=1\n",
    "amount = p * (1 + r / n)**(n * t)\n",
    "print(amount)\n",
    "compound_interest=amount-p\n",
    "print(compound_interest)"
   ]
  },
  {
   "cell_type": "code",
   "execution_count": null,
   "id": "c4956a06-873a-4a69-8d22-f95756e496fb",
   "metadata": {},
   "outputs": [],
   "source": []
  },
  {
   "cell_type": "code",
   "execution_count": 11,
   "id": "dc921ab8-5f28-4c6f-8d12-1dfd9b8aaabc",
   "metadata": {},
   "outputs": [
    {
     "name": "stdout",
     "output_type": "stream",
     "text": [
      "\n",
      "Question 4: Find the hypotenuse of a right triangle with sides 3.5 and 4.2\n"
     ]
    }
   ],
   "source": [
    "\n",
    "# Question 4: Find the hypotenuse of a right triangle with sides 3.5 and 4.2\n",
    "print(\"\\nQuestion 4: Find the hypotenuse of a right triangle with sides 3.5 and 4.2\")\n"
   ]
  },
  {
   "cell_type": "code",
   "execution_count": 34,
   "id": "3f9f9b7c-2b08-4060-a70f-85e8e03e882c",
   "metadata": {},
   "outputs": [
    {
     "name": "stdout",
     "output_type": "stream",
     "text": [
      "29.89\n",
      "5.4671747731346585\n"
     ]
    }
   ],
   "source": [
    "a=3.5\n",
    "b=4.2\n",
    "c=a**2+b**2\n",
    "print(c)\n",
    "hypotenus=c**0.5\n",
    "print(hypotenus)"
   ]
  },
  {
   "cell_type": "code",
   "execution_count": null,
   "id": "8abd4e5d-c2ec-43f5-83e3-f7b0a9c26a26",
   "metadata": {},
   "outputs": [],
   "source": []
  },
  {
   "cell_type": "code",
   "execution_count": 12,
   "id": "2af65412-d109-498c-afe3-ddd091a82614",
   "metadata": {},
   "outputs": [
    {
     "name": "stdout",
     "output_type": "stream",
     "text": [
      "\n",
      "Question 5: Calculate the volume of a sphere with radius 7.8\n"
     ]
    }
   ],
   "source": [
    "# Question 5: Calculate the volume of a sphere with radius 7.8\n",
    "print(\"\\nQuestion 5: Calculate the volume of a sphere with radius 7.8\")"
   ]
  },
  {
   "cell_type": "code",
   "execution_count": null,
   "id": "f30d9f11-d530-442a-be6e-fa375fdaee5c",
   "metadata": {},
   "outputs": [],
   "source": []
  },
  {
   "cell_type": "code",
   "execution_count": null,
   "id": "5e92d568-96b8-4a67-a38a-b605f2634199",
   "metadata": {},
   "outputs": [],
   "source": []
  },
  {
   "cell_type": "code",
   "execution_count": null,
   "id": "5c08be0d-4562-48e6-8dba-02bdacc2f8b6",
   "metadata": {},
   "outputs": [],
   "source": []
  },
  {
   "cell_type": "code",
   "execution_count": 15,
   "id": "21623b62-f879-4d07-99fd-a040a287074c",
   "metadata": {},
   "outputs": [
    {
     "name": "stdout",
     "output_type": "stream",
     "text": [
      "\n",
      "Question 6: Round 3.14159 to 3 decimal places\n"
     ]
    }
   ],
   "source": [
    "# Question 6: Round 3.14159 to 3 decimal places\n",
    "print(\"\\nQuestion 6: Round 3.14159 to 3 decimal places\")"
   ]
  },
  {
   "cell_type": "code",
   "execution_count": 17,
   "id": "7e66d081-7ca0-4e7e-a2c8-caa3f4a0a856",
   "metadata": {},
   "outputs": [
    {
     "name": "stdout",
     "output_type": "stream",
     "text": [
      "3.142\n"
     ]
    }
   ],
   "source": [
    "x=3.14159\n",
    "print(round(x,3))"
   ]
  },
  {
   "cell_type": "code",
   "execution_count": 18,
   "id": "a6d74009-eec5-4f63-9890-d8bf18a171cd",
   "metadata": {},
   "outputs": [
    {
     "name": "stdout",
     "output_type": "stream",
     "text": [
      "\n",
      "Question 7: Calculate the percentage: 45 out of 67\n"
     ]
    }
   ],
   "source": [
    "# Question 7: Calculate the percentage: 45 out of 67\n",
    "print(\"\\nQuestion 7: Calculate the percentage: 45 out of 67\")"
   ]
  },
  {
   "cell_type": "code",
   "execution_count": 19,
   "id": "a834487f-b19a-445e-aee9-05e7356f3331",
   "metadata": {},
   "outputs": [
    {
     "data": {
      "text/plain": [
       "67.16417910447761"
      ]
     },
     "execution_count": 19,
     "metadata": {},
     "output_type": "execute_result"
    }
   ],
   "source": [
    "45/67*100"
   ]
  },
  {
   "cell_type": "code",
   "execution_count": 20,
   "id": "dd9d5516-5770-41e9-ad89-bf5d1b46879d",
   "metadata": {},
   "outputs": [
    {
     "name": "stdout",
     "output_type": "stream",
     "text": [
      "\n",
      "Question 8: Find the square root of 23.456\n"
     ]
    }
   ],
   "source": [
    "# Question 8: Find the square root of 23.456\n",
    "print(\"\\nQuestion 8: Find the square root of 23.456\")"
   ]
  },
  {
   "cell_type": "code",
   "execution_count": 22,
   "id": "da8cecae-e2b0-4843-8c96-d1823d699c13",
   "metadata": {},
   "outputs": [],
   "source": [
    "import math"
   ]
  },
  {
   "cell_type": "code",
   "execution_count": 23,
   "id": "05cec048-d223-4771-bfa5-319cf1351ce5",
   "metadata": {},
   "outputs": [
    {
     "data": {
      "text/plain": [
       "4.843139477652899"
      ]
     },
     "execution_count": 23,
     "metadata": {},
     "output_type": "execute_result"
    }
   ],
   "source": [
    "math.sqrt(23.456)"
   ]
  },
  {
   "cell_type": "code",
   "execution_count": null,
   "id": "ed569f28-9571-4574-a629-c2017e4b0dda",
   "metadata": {},
   "outputs": [],
   "source": []
  },
  {
   "cell_type": "code",
   "execution_count": 24,
   "id": "cfbe6664-ea6a-443c-86b1-68a357f4a73c",
   "metadata": {},
   "outputs": [
    {
     "name": "stdout",
     "output_type": "stream",
     "text": [
      "\n",
      "Question 9: Calculate simple interest: Principal=2500, Rate=6.5%, Time=2.5 years\n"
     ]
    }
   ],
   "source": [
    "# Question 9: Calculate the simple interest: Principal=2500, Rate=6.5%, Time=2.5 years\n",
    "print(\"\\nQuestion 9: Calculate simple interest: Principal=2500, Rate=6.5%, Time=2.5 years\")"
   ]
  },
  {
   "cell_type": "code",
   "execution_count": 28,
   "id": "85c5dbd0-471d-4dd4-9309-6ed1d0f78e58",
   "metadata": {},
   "outputs": [
    {
     "name": "stdout",
     "output_type": "stream",
     "text": [
      "406.25\n"
     ]
    }
   ],
   "source": [
    "p=2500\n",
    "r=6.5\n",
    "t=2.5\n",
    "simple_interest=p*t*r/100\n",
    "print(simple_interest)"
   ]
  },
  {
   "cell_type": "code",
   "execution_count": 29,
   "id": "64a5f211-6bc8-41d1-bd3e-6053b88c921a",
   "metadata": {},
   "outputs": [
    {
     "name": "stdout",
     "output_type": "stream",
     "text": [
      "\n",
      "Question 10: Convert 45.7 degrees to radians\n"
     ]
    }
   ],
   "source": [
    "# Question 10: Convert 45.7 degrees to radians\n",
    "print(\"\\nQuestion 10: Convert 45.7 degrees to radians\")"
   ]
  },
  {
   "cell_type": "code",
   "execution_count": 31,
   "id": "93950dd0-d8b3-4b08-a04c-bcd094a99084",
   "metadata": {},
   "outputs": [
    {
     "data": {
      "text/plain": [
       "0.7976154681614086"
      ]
     },
     "execution_count": 31,
     "metadata": {},
     "output_type": "execute_result"
    }
   ],
   "source": [
    "x=45.7\n",
    "math.radians(x)"
   ]
  },
  {
   "cell_type": "code",
   "execution_count": null,
   "id": "0b2e1622-2752-4bd3-b09a-9952fdca53ec",
   "metadata": {},
   "outputs": [],
   "source": []
  }
 ],
 "metadata": {
  "kernelspec": {
   "display_name": "Python 3 (ipykernel)",
   "language": "python",
   "name": "python3"
  },
  "language_info": {
   "codemirror_mode": {
    "name": "ipython",
    "version": 3
   },
   "file_extension": ".py",
   "mimetype": "text/x-python",
   "name": "python",
   "nbconvert_exporter": "python",
   "pygments_lexer": "ipython3",
   "version": "3.13.5"
  }
 },
 "nbformat": 4,
 "nbformat_minor": 5
}
