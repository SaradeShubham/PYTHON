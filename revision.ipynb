{
 "cells": [
  {
   "cell_type": "code",
   "execution_count": 4,
   "id": "a2cc51a2-4cc4-4ff8-aaa0-25e9d00ad8a4",
   "metadata": {},
   "outputs": [],
   "source": [
    "x=\"123\""
   ]
  },
  {
   "cell_type": "code",
   "execution_count": 5,
   "id": "15b95847-d278-462a-ad1f-1fe2d629baf1",
   "metadata": {},
   "outputs": [
    {
     "data": {
      "text/plain": [
       "True"
      ]
     },
     "execution_count": 5,
     "metadata": {},
     "output_type": "execute_result"
    }
   ],
   "source": [
    "x.isdigit()"
   ]
  },
  {
   "cell_type": "code",
   "execution_count": 6,
   "id": "8800ad13-7717-47cf-8e9c-3dd07bf097bc",
   "metadata": {},
   "outputs": [
    {
     "data": {
      "text/plain": [
       "['SHUBHAM', 'SARADE']"
      ]
     },
     "execution_count": 6,
     "metadata": {},
     "output_type": "execute_result"
    }
   ],
   "source": [
    "x='SHUBHAM SARADE'\n",
    "x.split()"
   ]
  },
  {
   "cell_type": "code",
   "execution_count": 9,
   "id": "9cf6cd2f-76bb-4deb-a7d4-d8c01b528a8b",
   "metadata": {},
   "outputs": [
    {
     "data": {
      "text/plain": [
       "['shubham', 'sarade']"
      ]
     },
     "execution_count": 9,
     "metadata": {},
     "output_type": "execute_result"
    }
   ],
   "source": [
    "x=\"shubham=sarade\"\n",
    "x.split('=')"
   ]
  },
  {
   "cell_type": "code",
   "execution_count": 10,
   "id": "d6f11c57-946c-4967-8bf3-d3441849ccec",
   "metadata": {},
   "outputs": [
    {
     "data": {
      "text/plain": [
       "['shubha', 'sarade']"
      ]
     },
     "execution_count": 10,
     "metadata": {},
     "output_type": "execute_result"
    }
   ],
   "source": [
    "x='shubhamsarade'\n",
    "x.split('m')"
   ]
  },
  {
   "cell_type": "code",
   "execution_count": 12,
   "id": "5382fb2c-c2e8-47c8-ba79-e0392008d87e",
   "metadata": {},
   "outputs": [
    {
     "data": {
      "text/plain": [
       "['shubh', 'ms', 'r', 'de']"
      ]
     },
     "execution_count": 12,
     "metadata": {},
     "output_type": "execute_result"
    }
   ],
   "source": [
    "x.split('a')"
   ]
  },
  {
   "cell_type": "code",
   "execution_count": 14,
   "id": "8220abe6-f964-4bcd-8d5d-e695a901b55b",
   "metadata": {},
   "outputs": [
    {
     "data": {
      "text/plain": [
       "['d', 't', '']"
      ]
     },
     "execution_count": 14,
     "metadata": {},
     "output_type": "execute_result"
    }
   ],
   "source": [
    "x='data'\n",
    "x.split('a')"
   ]
  },
  {
   "cell_type": "code",
   "execution_count": 15,
   "id": "2991bd83-8a6b-4118-84ee-20894786d901",
   "metadata": {},
   "outputs": [
    {
     "data": {
      "text/plain": [
       "2"
      ]
     },
     "execution_count": 15,
     "metadata": {},
     "output_type": "execute_result"
    }
   ],
   "source": [
    "x.count('a')"
   ]
  },
  {
   "cell_type": "code",
   "execution_count": 17,
   "id": "70deeaa8-0424-494c-b323-922f06b97ecd",
   "metadata": {},
   "outputs": [
    {
     "data": {
      "text/plain": [
       "1"
      ]
     },
     "execution_count": 17,
     "metadata": {},
     "output_type": "execute_result"
    }
   ],
   "source": [
    "x.count('d')"
   ]
  },
  {
   "cell_type": "code",
   "execution_count": 24,
   "id": "0b4abc6d-dfd3-4747-9bb4-70f05594a98e",
   "metadata": {},
   "outputs": [
    {
     "data": {
      "text/plain": [
       "'bala sarade'"
      ]
     },
     "execution_count": 24,
     "metadata": {},
     "output_type": "execute_result"
    }
   ],
   "source": [
    "x='shubham sarade'\n",
    "x.replace('shubham','bala')\n",
    "\n",
    "\n"
   ]
  },
  {
   "cell_type": "code",
   "execution_count": 25,
   "id": "84fff911-9786-463d-ba2f-7244e9e7949d",
   "metadata": {},
   "outputs": [
    {
     "data": {
      "text/plain": [
       "'shubham sarade'"
      ]
     },
     "execution_count": 25,
     "metadata": {},
     "output_type": "execute_result"
    }
   ],
   "source": [
    "x"
   ]
  },
  {
   "cell_type": "code",
   "execution_count": 26,
   "id": "a138b134-f429-4251-a1e7-9679e5412494",
   "metadata": {},
   "outputs": [
    {
     "data": {
      "text/plain": [
       "0"
      ]
     },
     "execution_count": 26,
     "metadata": {},
     "output_type": "execute_result"
    }
   ],
   "source": [
    "x.index('s')\n"
   ]
  },
  {
   "cell_type": "code",
   "execution_count": 29,
   "id": "b827fcb2-d447-4302-ae5d-4265b56e8e74",
   "metadata": {},
   "outputs": [
    {
     "data": {
      "text/plain": [
       "8"
      ]
     },
     "execution_count": 29,
     "metadata": {},
     "output_type": "execute_result"
    }
   ],
   "source": [
    "x.index('s',1)"
   ]
  },
  {
   "cell_type": "markdown",
   "id": "d9f321ba-0c73-4316-8ae5-13979f337752",
   "metadata": {},
   "source": []
  },
  {
   "cell_type": "code",
   "execution_count": 30,
   "id": "a4554547-19a1-415f-bd0c-879dc722f89c",
   "metadata": {},
   "outputs": [
    {
     "data": {
      "text/plain": [
       "'shubh'"
      ]
     },
     "execution_count": 30,
     "metadata": {},
     "output_type": "execute_result"
    }
   ],
   "source": [
    "x[0:5]"
   ]
  },
  {
   "cell_type": "code",
   "execution_count": 32,
   "id": "2872a5dc-3e54-4746-bf7a-828445071ea8",
   "metadata": {},
   "outputs": [
    {
     "data": {
      "text/plain": [
       "'shubham'"
      ]
     },
     "execution_count": 32,
     "metadata": {},
     "output_type": "execute_result"
    }
   ],
   "source": [
    "x[:7]"
   ]
  },
  {
   "cell_type": "code",
   "execution_count": 33,
   "id": "2170d9d7-602a-4e35-a228-7a3ce66407c5",
   "metadata": {},
   "outputs": [
    {
     "data": {
      "text/plain": [
       "'sarade'"
      ]
     },
     "execution_count": 33,
     "metadata": {},
     "output_type": "execute_result"
    }
   ],
   "source": [
    "x[8:]"
   ]
  },
  {
   "cell_type": "code",
   "execution_count": 34,
   "id": "d7382c8c-5f41-4b6c-960a-33ff7e7f6028",
   "metadata": {},
   "outputs": [
    {
     "data": {
      "text/plain": [
       "'shubham sarade'"
      ]
     },
     "execution_count": 34,
     "metadata": {},
     "output_type": "execute_result"
    }
   ],
   "source": [
    "x"
   ]
  },
  {
   "cell_type": "code",
   "execution_count": 35,
   "id": "e6cccd16-4b93-460e-885f-568aea8bc6b4",
   "metadata": {},
   "outputs": [
    {
     "data": {
      "text/plain": [
       "'ADE'"
      ]
     },
     "execution_count": 35,
     "metadata": {},
     "output_type": "execute_result"
    }
   ],
   "source": [
    "x.upper()[-3:]"
   ]
  },
  {
   "cell_type": "code",
   "execution_count": 43,
   "id": "9845e505-48ae-4add-b2f4-f33261d94c61",
   "metadata": {},
   "outputs": [
    {
     "data": {
      "text/plain": [
       "'SARADE'"
      ]
     },
     "execution_count": 43,
     "metadata": {},
     "output_type": "execute_result"
    }
   ],
   "source": [
    "x.split(' ')[1].swapcase()\n"
   ]
  },
  {
   "cell_type": "code",
   "execution_count": 44,
   "id": "64513ee8-1ec9-4175-9442-af30da7e96f9",
   "metadata": {},
   "outputs": [
    {
     "data": {
      "text/plain": [
       "'shubham sarade'"
      ]
     },
     "execution_count": 44,
     "metadata": {},
     "output_type": "execute_result"
    }
   ],
   "source": [
    "x"
   ]
  },
  {
   "cell_type": "code",
   "execution_count": 45,
   "id": "8fa26576-b3be-427d-a796-a6372c67e98a",
   "metadata": {},
   "outputs": [
    {
     "data": {
      "text/plain": [
       "0"
      ]
     },
     "execution_count": 45,
     "metadata": {},
     "output_type": "execute_result"
    }
   ],
   "source": [
    "x.find('s')"
   ]
  },
  {
   "cell_type": "code",
   "execution_count": 46,
   "id": "d3b9d485-78e2-4c71-acac-0f19401d568d",
   "metadata": {},
   "outputs": [
    {
     "data": {
      "text/plain": [
       "8"
      ]
     },
     "execution_count": 46,
     "metadata": {},
     "output_type": "execute_result"
    }
   ],
   "source": [
    "x.find('s',1)"
   ]
  },
  {
   "cell_type": "code",
   "execution_count": 53,
   "id": "3acf990d-f61b-4170-a5fc-955a06120aab",
   "metadata": {},
   "outputs": [
    {
     "data": {
      "text/plain": [
       "'*****shubham******'"
      ]
     },
     "execution_count": 53,
     "metadata": {},
     "output_type": "execute_result"
    }
   ],
   "source": [
    "x.center(18,'*')"
   ]
  },
  {
   "cell_type": "code",
   "execution_count": 52,
   "id": "71acd48c-dd74-4a39-a6c5-4557fe8ff907",
   "metadata": {},
   "outputs": [
    {
     "data": {
      "text/plain": [
       "'@@@@shubham@@@@'"
      ]
     },
     "execution_count": 52,
     "metadata": {},
     "output_type": "execute_result"
    }
   ],
   "source": [
    "x=\"shubham\"\n",
    "x.center(15,\"@\")"
   ]
  },
  {
   "cell_type": "code",
   "execution_count": 54,
   "id": "7824de47-586c-4751-b21b-2b58612bddd4",
   "metadata": {},
   "outputs": [
    {
     "data": {
      "text/plain": [
       "'###shubham Sarade###'"
      ]
     },
     "execution_count": 54,
     "metadata": {},
     "output_type": "execute_result"
    }
   ],
   "source": [
    "x=\"shubham Sarade\"\n",
    "x.center(20,'#')"
   ]
  },
  {
   "cell_type": "code",
   "execution_count": null,
   "id": "cee76166-baf0-45b9-80e7-242f54105256",
   "metadata": {},
   "outputs": [],
   "source": [
    "\n",
    "\n",
    "\n",
    "\n"
   ]
  },
  {
   "cell_type": "code",
   "execution_count": 55,
   "id": "875fcdba-9a31-4d8e-b686-ce3534c498cc",
   "metadata": {},
   "outputs": [],
   "source": [
    "x=\"   shubham sarade      \""
   ]
  },
  {
   "cell_type": "code",
   "execution_count": 56,
   "id": "49850b0c-6682-4317-890f-3d45fefb9a66",
   "metadata": {},
   "outputs": [
    {
     "data": {
      "text/plain": [
       "'shubham sarade      '"
      ]
     },
     "execution_count": 56,
     "metadata": {},
     "output_type": "execute_result"
    }
   ],
   "source": [
    "x.lstrip()"
   ]
  },
  {
   "cell_type": "code",
   "execution_count": 57,
   "id": "bcfff7fd-d144-4820-9c61-800243d3e6cf",
   "metadata": {},
   "outputs": [
    {
     "data": {
      "text/plain": [
       "'   shubham sarade'"
      ]
     },
     "execution_count": 57,
     "metadata": {},
     "output_type": "execute_result"
    }
   ],
   "source": [
    "x.rstrip()"
   ]
  },
  {
   "cell_type": "code",
   "execution_count": 58,
   "id": "6d0b201a-6bb3-45de-9804-b6b20d91d2c1",
   "metadata": {},
   "outputs": [
    {
     "data": {
      "text/plain": [
       "'shubham sarade'"
      ]
     },
     "execution_count": 58,
     "metadata": {},
     "output_type": "execute_result"
    }
   ],
   "source": [
    "x.strip()"
   ]
  },
  {
   "cell_type": "code",
   "execution_count": 61,
   "id": "c1874c8f-b263-4ec5-b574-30357ffa73fd",
   "metadata": {},
   "outputs": [],
   "source": [
    "x=\"data\""
   ]
  },
  {
   "cell_type": "code",
   "execution_count": 65,
   "id": "5a2d9e5d-2545-4e47-90e3-d4c82cbda5a2",
   "metadata": {},
   "outputs": [
    {
     "data": {
      "text/plain": [
       "'data@@@@@@@@@@@'"
      ]
     },
     "execution_count": 65,
     "metadata": {},
     "output_type": "execute_result"
    }
   ],
   "source": [
    "x.ljust(15,\"@\")"
   ]
  },
  {
   "cell_type": "code",
   "execution_count": 66,
   "id": "e35f1353-c6f5-4d4c-a634-fcdf3fa0c534",
   "metadata": {},
   "outputs": [
    {
     "data": {
      "text/plain": [
       "'%%%%%%%%%%%%%%%%data'"
      ]
     },
     "execution_count": 66,
     "metadata": {},
     "output_type": "execute_result"
    }
   ],
   "source": [
    "x.rjust(20,'%')"
   ]
  },
  {
   "cell_type": "code",
   "execution_count": 68,
   "id": "252ea023-4f37-4fc1-80dd-b2bbe4c8db01",
   "metadata": {},
   "outputs": [
    {
     "ename": "AttributeError",
     "evalue": "'str' object has no attribute 'just'",
     "output_type": "error",
     "traceback": [
      "\u001b[31m---------------------------------------------------------------------------\u001b[39m",
      "\u001b[31mAttributeError\u001b[39m                            Traceback (most recent call last)",
      "\u001b[36mCell\u001b[39m\u001b[36m \u001b[39m\u001b[32mIn[68]\u001b[39m\u001b[32m, line 1\u001b[39m\n\u001b[32m----> \u001b[39m\u001b[32m1\u001b[39m \u001b[43mx\u001b[49m\u001b[43m.\u001b[49m\u001b[43mjust\u001b[49m(\u001b[32m15\u001b[39m,\u001b[33m'\u001b[39m\u001b[33m@\u001b[39m\u001b[33m'\u001b[39m)\n",
      "\u001b[31mAttributeError\u001b[39m: 'str' object has no attribute 'just'"
     ]
    }
   ],
   "source": [
    "x.just(15,'@')"
   ]
  },
  {
   "cell_type": "code",
   "execution_count": null,
   "id": "d2441c30-2ad7-4bab-a78b-d91c1e377aba",
   "metadata": {},
   "outputs": [],
   "source": []
  }
 ],
 "metadata": {
  "kernelspec": {
   "display_name": "Python 3 (ipykernel)",
   "language": "python",
   "name": "python3"
  },
  "language_info": {
   "codemirror_mode": {
    "name": "ipython",
    "version": 3
   },
   "file_extension": ".py",
   "mimetype": "text/x-python",
   "name": "python",
   "nbconvert_exporter": "python",
   "pygments_lexer": "ipython3",
   "version": "3.13.5"
  }
 },
 "nbformat": 4,
 "nbformat_minor": 5
}
