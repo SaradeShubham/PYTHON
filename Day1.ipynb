{
 "cells": [
  {
   "cell_type": "code",
   "execution_count": 2,
   "id": "79b24858",
   "metadata": {},
   "outputs": [
    {
     "name": "stdout",
     "output_type": "stream",
     "text": [
      "Hello world\n",
      "My Name Is Shubham\n",
      "I Live In bangalore\n",
      "I am a Data Engineer\n",
      "hello world my name is shubham i live in bangalore I am a Data Endineer\n"
     ]
    }
   ],
   "source": [
    "print(\"Hello world\")\n",
    "\n",
    "print(\"My Name Is Shubham\")\n",
    "print(\"I Live In bangalore\")\n",
    "print(\"I am a Data Engineer\")\n",
    "#here we are using print function for diff line\n",
    "\n",
    "##now if we want print this statement in  single line just we have to use , for  seperate the statemet\n",
    "print(\"hello world\",\"my name is shubham\", \"i live in bangalore\", \"I am a Data Endineer\")\n"
   ]
  },
  {
   "cell_type": "markdown",
   "id": "bdd44283",
   "metadata": {},
   "source": [
    "# Python Character Set\n",
    "-Letters - A to Z , a to z\n",
    "-Digits- 0-9\n",
    "- special symbols- !,@,$%&*^\n",
    "- white spaces(just space),tab , newline"
   ]
  },
  {
   "cell_type": "code",
   "execution_count": 32,
   "id": "0e34510d",
   "metadata": {},
   "outputs": [
    {
     "name": "stdout",
     "output_type": "stream",
     "text": [
      "Shubham 30 5.7 True\n"
     ]
    }
   ],
   "source": [
    "#variables\n",
    "###A variable is name given too a memory location in a program\n",
    "#here name is a variable\n",
    "# Basic Syntax\n",
    " #variable_name=Value\n",
    "name=\"Shubham\"\n",
    "age=30\n",
    "height=5.7\n",
    "is_student= True\n",
    "print(name,age,height,is_student)"
   ]
  },
  {
   "cell_type": "code",
   "execution_count": 33,
   "id": "86e94af0",
   "metadata": {},
   "outputs": [
    {
     "name": "stdout",
     "output_type": "stream",
     "text": [
      "Shubham SHUBHAM\n",
      "['False', 'None', 'True', 'and', 'as', 'assert', 'async', 'await', 'break', 'class', 'continue', 'def', 'del', 'elif', 'else', 'except', 'finally', 'for', 'from', 'global', 'if', 'import', 'in', 'is', 'lambda', 'nonlocal', 'not', 'or', 'pass', 'raise', 'return', 'try', 'while', 'with', 'yield']\n"
     ]
    }
   ],
   "source": [
    "#Rules For Variable Name\n",
    "#must start with letter or under score(_)\n",
    "# not star by a number\n",
    "#we can use number after letter or underscore\n",
    "##eg. == name, _age, Name1, Stedent_1\n",
    "\n",
    "### Variable must contain only letter, numbers and underscore\n",
    " ## First_name,Age2(it we can use)\n",
    " ## first-name, age@(it does not work )\n",
    "\n",
    "\n",
    "#### Python is case sensitive\n",
    "name= \"Shubham\"\n",
    "Name= \"SHUBHAM\"\n",
    "print(name,Name)\n",
    "## because of python is case sensitive bothe name & Name work differntly\n",
    "\n",
    "###there are some reserved keywords which we can not use as Varible\n",
    "import keyword\n",
    "\n",
    "# Get the list of reserved keywords\n",
    "keywords = keyword.kwlist\n",
    "\n",
    "# Print them\n",
    "print(keywords)\n"
   ]
  },
  {
   "cell_type": "markdown",
   "id": "dec3ff4f",
   "metadata": {},
   "source": [
    "Data Types in Python\n"
   ]
  },
  {
   "cell_type": "code",
   "execution_count": 34,
   "id": "7c333e3e",
   "metadata": {},
   "outputs": [],
   "source": [
    "name=\"Shubham\"\n",
    "age= 30\n",
    "height= 5.7\n",
    "is_student= True"
   ]
  },
  {
   "cell_type": "code",
   "execution_count": null,
   "id": "47f95d33",
   "metadata": {},
   "outputs": [
    {
     "name": "stdout",
     "output_type": "stream",
     "text": [
      "<class 'str'>\n",
      "<class 'int'>\n",
      "<class 'float'>\n",
      "<class 'bool'>\n"
     ]
    }
   ],
   "source": [
    "print(type(name)) #string\n",
    "print(type(age))#int(number)\n",
    "print(type(height))#float\n",
    "print(type(is_student))##bool(always start with capital )"
   ]
  },
  {
   "cell_type": "markdown",
   "id": "fa8842ea",
   "metadata": {},
   "source": [
    "Operators\n",
    "  -operators are special syymbols or keywords in python \n",
    "  - that performs operations on values and variables\n",
    "  example== +, -, *, %,/ are the operatores\n",
    "  \n"
   ]
  },
  {
   "cell_type": "markdown",
   "id": "15fc737e",
   "metadata": {},
   "source": [
    "## 1 Arithmetic Operators \n",
    "Use for basic mathematical calculations\n",
    "+: Addition\n",
    "-: Substraction\n",
    "*: Multiplication\n",
    "/: Division\n",
    "//:Floar division (out put was whole number)\n",
    "% : modulus (gives remider as out put)\n",
    "** or ^: exponent(power)"
   ]
  },
  {
   "cell_type": "code",
   "execution_count": 43,
   "id": "0d9a6518",
   "metadata": {},
   "outputs": [
    {
     "name": "stdout",
     "output_type": "stream",
     "text": [
      "23\n",
      "17\n",
      "6.666666666666667\n",
      "6\n",
      "2\n",
      "60\n",
      "8000\n",
      "23\n"
     ]
    }
   ],
   "source": [
    "##for Example\n",
    "a= 20\n",
    "b=3\n",
    "print(a+b)\n",
    "print(a-b)\n",
    "print(a/b)\n",
    "print(a//b)\n",
    "print(a%b)\n",
    "print(a*b)\n",
    "print(a**b)\n",
    "print(a^b)"
   ]
  },
  {
   "cell_type": "markdown",
   "id": "332b6818",
   "metadata": {},
   "source": [
    "#Comparison (Relational) Operators\n",
    "\n",
    "Use to compare two Values\n",
    "they return with only True and False \n",
    "\n",
    "== : Equal to  ex:5==6 it returns with True or False\n",
    "\n",
    "!= : Not Equal to\n",
    "\n",
    "> : Greater Than \n",
    "< : Lesser than\n",
    ">= : Greater then Equal To\n",
    "<= : Lesser than Equal to\n",
    "\n",
    "\n"
   ]
  },
  {
   "cell_type": "code",
   "execution_count": 45,
   "id": "455a53e4",
   "metadata": {},
   "outputs": [
    {
     "data": {
      "text/plain": [
       "True"
      ]
     },
     "execution_count": 45,
     "metadata": {},
     "output_type": "execute_result"
    }
   ],
   "source": [
    "5==4\n",
    "5!=3"
   ]
  },
  {
   "cell_type": "code",
   "execution_count": null,
   "id": "5763db39",
   "metadata": {},
   "outputs": [],
   "source": []
  },
  {
   "cell_type": "code",
   "execution_count": null,
   "id": "71d2cbd0",
   "metadata": {},
   "outputs": [],
   "source": []
  },
  {
   "cell_type": "code",
   "execution_count": null,
   "id": "11a53246",
   "metadata": {},
   "outputs": [],
   "source": []
  },
  {
   "cell_type": "code",
   "execution_count": null,
   "id": "5f59a338",
   "metadata": {},
   "outputs": [],
   "source": []
  },
  {
   "cell_type": "code",
   "execution_count": null,
   "id": "d9b733e1",
   "metadata": {},
   "outputs": [],
   "source": []
  },
  {
   "cell_type": "code",
   "execution_count": null,
   "id": "a2333ac6",
   "metadata": {},
   "outputs": [],
   "source": []
  }
 ],
 "metadata": {
  "kernelspec": {
   "display_name": "Python 3",
   "language": "python",
   "name": "python3"
  },
  "language_info": {
   "codemirror_mode": {
    "name": "ipython",
    "version": 3
   },
   "file_extension": ".py",
   "mimetype": "text/x-python",
   "name": "python",
   "nbconvert_exporter": "python",
   "pygments_lexer": "ipython3",
   "version": "3.13.7"
  }
 },
 "nbformat": 4,
 "nbformat_minor": 5
}
