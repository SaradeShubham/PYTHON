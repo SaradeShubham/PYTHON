{
 "cells": [
  {
   "cell_type": "code",
   "execution_count": 2,
   "id": "79b24858",
   "metadata": {},
   "outputs": [
    {
     "name": "stdout",
     "output_type": "stream",
     "text": [
      "Hello world\n",
      "My Name Is Shubham\n",
      "I Live In bangalore\n",
      "I am a Data Engineer\n",
      "hello world my name is shubham i live in bangalore I am a Data Endineer\n"
     ]
    }
   ],
   "source": [
    "print(\"Hello world\")\n",
    "\n",
    "print(\"My Name Is Shubham\")\n",
    "print(\"I Live In bangalore\")\n",
    "print(\"I am a Data Engineer\")\n",
    "#here we are using print function for diff line\n",
    "\n",
    "##now if we want print this statement in  single line just we have to use , for  seperate the statemet\n",
    "print(\"hello world\",\"my name is shubham\", \"i live in bangalore\", \"I am a Data Endineer\")\n"
   ]
  },
  {
   "cell_type": "markdown",
   "id": "bdd44283",
   "metadata": {},
   "source": [
    "# Python Character Set\n",
    "-Letters - A to Z , a to z\n",
    "-Digits- 0-9\n",
    "- special symbols- !,@,$%&*^\n",
    "- white spaces(just space),tab , newline"
   ]
  },
  {
   "cell_type": "code",
   "execution_count": 32,
   "id": "0e34510d",
   "metadata": {},
   "outputs": [
    {
     "name": "stdout",
     "output_type": "stream",
     "text": [
      "Shubham 30 5.7 True\n"
     ]
    }
   ],
   "source": [
    "#variables\n",
    "###A variable is name given too a memory location in a program\n",
    "#here name is a variable\n",
    "# Basic Syntax\n",
    " #variable_name=Value\n",
    "name=\"Shubham\"\n",
    "age=30\n",
    "height=5.7\n",
    "is_student= True\n",
    "print(name,age,height,is_student)"
   ]
  },
  {
   "cell_type": "code",
   "execution_count": 33,
   "id": "86e94af0",
   "metadata": {},
   "outputs": [
    {
     "name": "stdout",
     "output_type": "stream",
     "text": [
      "Shubham SHUBHAM\n",
      "['False', 'None', 'True', 'and', 'as', 'assert', 'async', 'await', 'break', 'class', 'continue', 'def', 'del', 'elif', 'else', 'except', 'finally', 'for', 'from', 'global', 'if', 'import', 'in', 'is', 'lambda', 'nonlocal', 'not', 'or', 'pass', 'raise', 'return', 'try', 'while', 'with', 'yield']\n"
     ]
    }
   ],
   "source": [
    "#Rules For Variable Name\n",
    "#must start with letter or under score(_)\n",
    "# not star by a number\n",
    "#we can use number after letter or underscore\n",
    "##eg. == name, _age, Name1, Stedent_1\n",
    "\n",
    "### Variable must contain only letter, numbers and underscore\n",
    " ## First_name,Age2(it we can use)\n",
    " ## first-name, age@(it does not work )\n",
    "\n",
    "\n",
    "#### Python is case sensitive\n",
    "name= \"Shubham\"\n",
    "Name= \"SHUBHAM\"\n",
    "print(name,Name)\n",
    "## because of python is case sensitive bothe name & Name work differntly\n",
    "\n",
    "###there are some reserved keywords which we can not use as Varible\n",
    "import keyword\n",
    "\n",
    "# Get the list of reserved keywords\n",
    "keywords = keyword.kwlist\n",
    "\n",
    "# Print them\n",
    "print(keywords)\n"
   ]
  },
  {
   "cell_type": "markdown",
   "id": "dec3ff4f",
   "metadata": {},
   "source": [
    "Data Types in Python\n"
   ]
  },
  {
   "cell_type": "code",
   "execution_count": 34,
   "id": "7c333e3e",
   "metadata": {},
   "outputs": [],
   "source": [
    "name=\"Shubham\"\n",
    "age= 30\n",
    "height= 5.7\n",
    "is_student= True"
   ]
  },
  {
   "cell_type": "code",
   "execution_count": null,
   "id": "47f95d33",
   "metadata": {},
   "outputs": [
    {
     "name": "stdout",
     "output_type": "stream",
     "text": [
      "<class 'str'>\n",
      "<class 'int'>\n",
      "<class 'float'>\n",
      "<class 'bool'>\n"
     ]
    }
   ],
   "source": [
    "print(type(name)) #string\n",
    "print(type(age))#int(number)\n",
    "print(type(height))#float\n",
    "print(type(is_student))##bool(always start with capital )"
   ]
  },
  {
   "cell_type": "markdown",
   "id": "fa8842ea",
   "metadata": {},
   "source": [
    "Operators\n",
    "  -operators are special syymbols or keywords in python \n",
    "  - that performs operations on values and variables\n",
    "  example== +, -, *, %,/ are the operatores\n",
    "  \n"
   ]
  },
  {
   "cell_type": "markdown",
   "id": "15fc737e",
   "metadata": {},
   "source": [
    "## 1 Arithmetic Operators \n",
    "Use for basic mathematical calculations\n",
    "+: Addition\n",
    "-: Substraction\n",
    "*: Multiplication\n",
    "/: Division\n",
    "//:Floar division (out put was whole number)\n",
    "% : modulus (gives remider as out put)\n",
    "** or ^: exponent(power)"
   ]
  },
  {
   "cell_type": "code",
   "execution_count": 57,
   "id": "0d9a6518",
   "metadata": {},
   "outputs": [
    {
     "name": "stdout",
     "output_type": "stream",
     "text": [
      "23\n",
      "17\n",
      "6.666666666666667\n",
      "6\n",
      "2\n",
      "60\n",
      "8000\n",
      "23\n"
     ]
    }
   ],
   "source": [
    "##for Example\n",
    "a= 20\n",
    "b=3\n",
    "print(a+b)\n",
    "print(a-b)\n",
    "print(a/b)\n",
    "print(a//b)\n",
    "print(a%b)\n",
    "print(a*b)\n",
    "print(a**b)\n",
    "print(a^b)"
   ]
  },
  {
   "cell_type": "markdown",
   "id": "332b6818",
   "metadata": {},
   "source": [
    "#Comparison (Relational) Operators\n",
    "\n",
    "Use to compare two Values\n",
    "they return with only True and False \n",
    "\n",
    "== : Equal to  ex:5==6 it returns with True or False\n",
    "\n",
    "!= : Not Equal to\n",
    "\n",
    "> : Greater Than \n",
    "< : Lesser than\n",
    ">= : Greater then Equal To\n",
    "<= : Lesser than Equal to\n",
    "\n",
    "\n"
   ]
  },
  {
   "cell_type": "code",
   "execution_count": 58,
   "id": "455a53e4",
   "metadata": {},
   "outputs": [
    {
     "data": {
      "text/plain": [
       "True"
      ]
     },
     "execution_count": 58,
     "metadata": {},
     "output_type": "execute_result"
    }
   ],
   "source": [
    "5==4\n",
    "5!=3"
   ]
  },
  {
   "cell_type": "code",
   "execution_count": 59,
   "id": "5763db39",
   "metadata": {},
   "outputs": [],
   "source": [
    "## Logical Operators\n",
    "#use to combine multiple Conditions\n",
    "\n",
    "#and: True is both condditions are true (5>3 and 10>5): True , False\n",
    "\n",
    "#or: true if one conddition is true (5<3 or 5>3) : True\n",
    "\n",
    "# not : revers the result not(5>3): False\n",
    "\n"
   ]
  },
  {
   "cell_type": "code",
   "execution_count": 60,
   "id": "71d2cbd0",
   "metadata": {},
   "outputs": [
    {
     "name": "stdout",
     "output_type": "stream",
     "text": [
      "True\n",
      "True\n",
      "True\n"
     ]
    }
   ],
   "source": [
    "a= 10\n",
    "b=20\n",
    "\n",
    "print(a<b and b>a )\n",
    "print(a>b or b>a)\n",
    "print(not(a>b))"
   ]
  },
  {
   "cell_type": "code",
   "execution_count": 2,
   "id": "11a53246",
   "metadata": {},
   "outputs": [],
   "source": [
    "##Assignment operator\n",
    "#this are use to asign values (also it can do calculations at the same time.)\n",
    "#= : asign values. if x=5 this mean value of x ix 5\n",
    "\n",
    "#+= : add and asign.  now x+=3 this mens back it add 3 in x and now new asigned value of x is 8\n",
    "\n",
    "#-= : substract and asign aslo if x-=4 now new value of x is 4 \n",
    "\n",
    "#*- : multiply and asign\n",
    "\n",
    "#  /+ : devide and asign\n",
    "\n",
    "#//= : floar devide and asign\n",
    "\n",
    "# %+ : modulus and asign\n",
    "\n",
    "# **+ : Power and asign\n",
    "\n",
    "\n"
   ]
  },
  {
   "cell_type": "markdown",
   "id": "495e382f",
   "metadata": {},
   "source": [
    "### Membership asignments"
   ]
  },
  {
   "cell_type": "code",
   "execution_count": 6,
   "id": "a2333ac6",
   "metadata": {},
   "outputs": [
    {
     "data": {
      "text/plain": [
       "True"
      ]
     },
     "execution_count": 6,
     "metadata": {},
     "output_type": "execute_result"
    }
   ],
   "source": [
    "# used to check if a value exist in a sequence (list, string , tuple, )\n",
    "#in: True if value exists ex= \"a\" in \"apple\"\n",
    "\"a\" in \"apple\""
   ]
  },
  {
   "cell_type": "code",
   "execution_count": null,
   "id": "5a7ff740",
   "metadata": {},
   "outputs": [
    {
     "data": {
      "text/plain": [
       "True"
      ]
     },
     "execution_count": 5,
     "metadata": {},
     "output_type": "execute_result"
    }
   ],
   "source": [
    "## not in : True if value does not exist\n",
    "\"z\" not in \"Shubham\"\n"
   ]
  },
  {
   "cell_type": "markdown",
   "id": "224a1905",
   "metadata": {},
   "source": [
    "### Identity  Operators\n",
    "\n",
    "-- Check whether two variables refer to the same object..\n",
    "-- is: True if value are same after asign\n",
    "-- is not: True if values are same bur asign by diff variables"
   ]
  },
  {
   "cell_type": "code",
   "execution_count": 8,
   "id": "a8eac1b0",
   "metadata": {},
   "outputs": [
    {
     "name": "stdout",
     "output_type": "stream",
     "text": [
      "True\n",
      "False\n",
      "True\n"
     ]
    }
   ],
   "source": [
    "x= [1,2,3]\n",
    "y=x\n",
    "z=[1,2,3]\n",
    "\n",
    "print(x is y) # True (same object)\n",
    "print(x is z) # False (diff object , even values are same)\n",
    "print(x is not z) # True"
   ]
  },
  {
   "cell_type": "markdown",
   "id": "10c815bb",
   "metadata": {},
   "source": [
    "### Arithmetic Operations\n",
    "-- Math Operations\n",
    "\n",
    "- Comparison == Compare values \n",
    "\n",
    "- Logical = Combine Condition\n",
    "\n",
    "-assignment = asign and update values\n",
    "\n",
    "-Membership = Check if value exist in the sequense\n",
    "\n",
    "--Identity = Check if two varibles are two objects"
   ]
  },
  {
   "cell_type": "code",
   "execution_count": 9,
   "id": "5909a4c9",
   "metadata": {},
   "outputs": [
    {
     "name": "stdout",
     "output_type": "stream",
     "text": [
      "My name is Shubham I am 30 years i'm from Pune\n"
     ]
    }
   ],
   "source": [
    "name= 'Shubham'\n",
    "age=30 \n",
    "city= \"Pune\"\n",
    "\n",
    "# My name is Shubham , I an 30 years , i'm from Pune\n",
    "\n",
    "print(\"My name is\",name, \"I am\" ,age, \"years\", \"i'm from\", city)"
   ]
  },
  {
   "cell_type": "markdown",
   "id": "c5367dc1",
   "metadata": {},
   "source": [
    "##f-string (formatter string)\n",
    "\n",
    "f-sring let you embed variables inside a string easily . It's more readable than concatination.\n",
    "\n",
    "Syntax for using f-string== f\"some text{variable}more text\""
   ]
  },
  {
   "cell_type": "code",
   "execution_count": 11,
   "id": "d1299dea",
   "metadata": {},
   "outputs": [
    {
     "name": "stdout",
     "output_type": "stream",
     "text": [
      "my name is Shubham.i am 30 years and i'm from Pune\n"
     ]
    }
   ],
   "source": [
    "name= 'Shubham'\n",
    "age=30 \n",
    "city= \"Pune\"\n",
    "\n",
    "print(f\"my name is {name}.i am {age} years and i'm from {city}\")"
   ]
  },
  {
   "cell_type": "code",
   "execution_count": null,
   "id": "fa4b989a",
   "metadata": {},
   "outputs": [],
   "source": []
  },
  {
   "cell_type": "code",
   "execution_count": null,
   "id": "1f6986d8",
   "metadata": {},
   "outputs": [],
   "source": []
  },
  {
   "cell_type": "code",
   "execution_count": null,
   "id": "62d51ee8",
   "metadata": {},
   "outputs": [],
   "source": []
  },
  {
   "cell_type": "code",
   "execution_count": null,
   "id": "b41440e6",
   "metadata": {},
   "outputs": [],
   "source": []
  },
  {
   "cell_type": "code",
   "execution_count": null,
   "id": "fc49337e",
   "metadata": {},
   "outputs": [],
   "source": []
  },
  {
   "cell_type": "code",
   "execution_count": null,
   "id": "e651cb67",
   "metadata": {},
   "outputs": [],
   "source": []
  },
  {
   "cell_type": "code",
   "execution_count": null,
   "id": "63172a8b",
   "metadata": {},
   "outputs": [],
   "source": []
  },
  {
   "cell_type": "code",
   "execution_count": null,
   "id": "53e79fb4",
   "metadata": {},
   "outputs": [],
   "source": []
  },
  {
   "cell_type": "code",
   "execution_count": null,
   "id": "565df11d",
   "metadata": {},
   "outputs": [],
   "source": []
  },
  {
   "cell_type": "code",
   "execution_count": null,
   "id": "30536039",
   "metadata": {},
   "outputs": [],
   "source": []
  },
  {
   "cell_type": "code",
   "execution_count": null,
   "id": "2e5d3067",
   "metadata": {},
   "outputs": [],
   "source": []
  }
 ],
 "metadata": {
  "kernelspec": {
   "display_name": "Python 3",
   "language": "python",
   "name": "python3"
  },
  "language_info": {
   "codemirror_mode": {
    "name": "ipython",
    "version": 3
   },
   "file_extension": ".py",
   "mimetype": "text/x-python",
   "name": "python",
   "nbconvert_exporter": "python",
   "pygments_lexer": "ipython3",
   "version": "3.13.7"
  }
 },
 "nbformat": 4,
 "nbformat_minor": 5
}
