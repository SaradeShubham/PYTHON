{
 "cells": [
  {
   "cell_type": "markdown",
   "id": "097cb371",
   "metadata": {},
   "source": [
    "#String\n",
    "\n",
    "String is sequence of character enclosed in quotes.\n",
    "\n",
    "Sreing is a inbuild data type in Python.\n",
    "\n",
    "String represent text data like name , adress, product desscriptionetc...\n"
   ]
  },
  {
   "cell_type": "code",
   "execution_count": 3,
   "id": "ad8dbf1b",
   "metadata": {},
   "outputs": [
    {
     "name": "stdout",
     "output_type": "stream",
     "text": [
      "<class 'str'>\n"
     ]
    }
   ],
   "source": [
    "x=\"Hi, I am  Shubham\"\n",
    "print(type(x))"
   ]
  },
  {
   "cell_type": "code",
   "execution_count": 5,
   "id": "60e5fef4",
   "metadata": {},
   "outputs": [
    {
     "name": "stdout",
     "output_type": "stream",
     "text": [
      "Hello World\n",
      "<class 'str'>\n"
     ]
    }
   ],
   "source": [
    "# Creating String\n",
    "#Quote types \n",
    "#python accepts three type (way) to creat strings\n",
    "\n",
    "###Single Quote\n",
    "text1= 'Hello World'\n",
    "print(text1)\n",
    "print(type(text1))"
   ]
  },
  {
   "cell_type": "code",
   "execution_count": 7,
   "id": "d1680f36",
   "metadata": {},
   "outputs": [
    {
     "name": "stdout",
     "output_type": "stream",
     "text": [
      "Hello World\n"
     ]
    }
   ],
   "source": [
    "### Double Quote\n",
    "text2=\"Hello World\"\n",
    "print(text2)\n"
   ]
  },
  {
   "cell_type": "code",
   "execution_count": 12,
   "id": "2d1d989d",
   "metadata": {},
   "outputs": [
    {
     "name": "stdout",
     "output_type": "stream",
     "text": [
      "Shubham\n",
      "shubham\n",
      "shivaji\n",
      "sarade\n"
     ]
    }
   ],
   "source": [
    "### Triple quote\n",
    "text3= \"\"\"Shubham\"\"\"\n",
    "print(text3)\n",
    "\n",
    "## Triple quote is used for multiline String\n",
    "name= \"\"\"shubham\n",
    "shivaji\n",
    "sarade\"\"\"\n",
    "print(name)"
   ]
  },
  {
   "cell_type": "markdown",
   "id": "c5b7bbb5",
   "metadata": {},
   "source": [
    "#Escape Characters\n",
    "\n",
    "\n"
   ]
  },
  {
   "cell_type": "code",
   "execution_count": 13,
   "id": "74fd0fa2",
   "metadata": {},
   "outputs": [
    {
     "name": "stdout",
     "output_type": "stream",
     "text": [
      "Hello \n",
      "World\n"
     ]
    }
   ],
   "source": [
    "#Special character which start with backslash:\n",
    "\n",
    "text=\"Hello \\nWorld\" ##\\n = new line\n",
    "print(text)"
   ]
  },
  {
   "cell_type": "code",
   "execution_count": 16,
   "id": "ec0df84c",
   "metadata": {},
   "outputs": [
    {
     "name": "stdout",
     "output_type": "stream",
     "text": [
      "Hello\tworld\n"
     ]
    }
   ],
   "source": [
    "text= \"Hello\\tworld\"  ###\\t= add tab(space)\n",
    "print(text)"
   ]
  },
  {
   "cell_type": "code",
   "execution_count": 17,
   "id": "eb70035e",
   "metadata": {},
   "outputs": [],
   "source": [
    "institute= \"Edukron\"\n",
    "focus_area= \"Data Science\"\n",
    "tech_stack= \"Azure DevOps and Python\"\n",
    "course_slogan= \"Learn Data Engineering with Real-time Projects\"\n"
   ]
  },
  {
   "cell_type": "code",
   "execution_count": 18,
   "id": "1b1d3016",
   "metadata": {},
   "outputs": [
    {
     "name": "stdout",
     "output_type": "stream",
     "text": [
      "Edukron\n",
      "Data Science\n",
      "Azure DevOps and Python\n",
      "Learn Data Engineering with Real-time Projects\n"
     ]
    }
   ],
   "source": [
    "print(institute)\n",
    "print(focus_area)\n",
    "print(tech_stack)\n",
    "print(course_slogan)"
   ]
  },
  {
   "cell_type": "markdown",
   "id": "3576ee1b",
   "metadata": {},
   "source": [
    "#String Operations and Methods\n",
    "\n",
    "-Concatenation(+)== join tow string together, creating newstring\n",
    "\n",
    "-Repetition(*)== Reapet a string a speccified no of times(using for integer.)\n"
   ]
  },
  {
   "cell_type": "code",
   "execution_count": null,
   "id": "ad3a8445",
   "metadata": {},
   "outputs": [
    {
     "name": "stdout",
     "output_type": "stream",
     "text": [
      "Edukron Data Science\n"
     ]
    }
   ],
   "source": [
    "#1.  Creating a course full title\n",
    "institute= \"Edukron\"\n",
    "focus_area= \"Data Science\"\n",
    "\n",
    "full_title=institute +\" \"+ focus_area\n",
    "print(full_title)"
   ]
  },
  {
   "cell_type": "code",
   "execution_count": 22,
   "id": "84345b3d",
   "metadata": {},
   "outputs": [
    {
     "name": "stdout",
     "output_type": "stream",
     "text": [
      "full title:Edukron Data Science\n"
     ]
    }
   ],
   "source": [
    "institute= \"Edukron\"\n",
    "focus_area= \"Data Science\"\n",
    "\n",
    "full_title=institute +\" \"+ focus_area\n",
    "print(f\"full title:{full_title}\")"
   ]
  },
  {
   "cell_type": "code",
   "execution_count": 26,
   "id": "0c3fa4fa",
   "metadata": {},
   "outputs": [
    {
     "name": "stdout",
     "output_type": "stream",
     "text": [
      "welcome to Edukron's Data Engineer Course!\n"
     ]
    }
   ],
   "source": [
    "#Creating a wellcome Message\n",
    "\n",
    "course_name= \"Data Engineer\"\n",
    "institute= \"Edukron\"\n",
    "# welcome message : \"Welcome to Edukron's Data Engineer's Course!\"\n",
    "\n",
    "welcome_message= \"welcome to \" + institute +\"'s \"+course_name+\" Course!\"\n",
    "print(welcome_message)"
   ]
  },
  {
   "cell_type": "code",
   "execution_count": 28,
   "id": "8e806715",
   "metadata": {},
   "outputs": [
    {
     "name": "stdout",
     "output_type": "stream",
     "text": [
      "-*=-*=-*=-*=-*=-*=-*=-*=-*=-*=-*=-*=-*=-*=-*=\n"
     ]
    }
   ],
   "source": [
    "#Reapeting a seperator\n",
    "# -*=-*=-*=-*=-*=-*=-*=-*=-*=-*=-*=-*=\n",
    "\n",
    "Seperator=\"-*=\"*15\n",
    "print(Seperator)"
   ]
  },
  {
   "cell_type": "code",
   "execution_count": 31,
   "id": "20f0c704",
   "metadata": {},
   "outputs": [
    {
     "name": "stdout",
     "output_type": "stream",
     "text": [
      "Edukron Edukron Edukron Edukron Edukron \n"
     ]
    }
   ],
   "source": [
    "institute=\"Edukron \"*5\n",
    "print(institute)"
   ]
  },
  {
   "cell_type": "markdown",
   "id": "58f96109",
   "metadata": {},
   "source": [
    "#Length Fuction\n",
    "\n",
    "- This return numbers of chaaracters in the string"
   ]
  },
  {
   "cell_type": "code",
   "execution_count": 32,
   "id": "8bc5bb93",
   "metadata": {},
   "outputs": [
    {
     "data": {
      "text/plain": [
       "21"
      ]
     },
     "execution_count": 32,
     "metadata": {},
     "output_type": "execute_result"
    }
   ],
   "source": [
    "string1= \"Hi, How was your day?\"\n",
    "len(string1)"
   ]
  },
  {
   "cell_type": "code",
   "execution_count": null,
   "id": "b2fbcc10",
   "metadata": {},
   "outputs": [],
   "source": []
  },
  {
   "cell_type": "code",
   "execution_count": null,
   "id": "7ad0b38d",
   "metadata": {},
   "outputs": [],
   "source": []
  },
  {
   "cell_type": "code",
   "execution_count": null,
   "id": "faf6048a",
   "metadata": {},
   "outputs": [],
   "source": []
  },
  {
   "cell_type": "code",
   "execution_count": null,
   "id": "0680eadb",
   "metadata": {},
   "outputs": [],
   "source": []
  },
  {
   "cell_type": "code",
   "execution_count": null,
   "id": "5e39e438",
   "metadata": {},
   "outputs": [],
   "source": []
  },
  {
   "cell_type": "code",
   "execution_count": null,
   "id": "3ad2dcb9",
   "metadata": {},
   "outputs": [],
   "source": []
  },
  {
   "cell_type": "code",
   "execution_count": null,
   "id": "3622049c",
   "metadata": {},
   "outputs": [],
   "source": []
  },
  {
   "cell_type": "code",
   "execution_count": null,
   "id": "b4ea7673",
   "metadata": {},
   "outputs": [],
   "source": []
  },
  {
   "cell_type": "code",
   "execution_count": null,
   "id": "45d96f4f",
   "metadata": {},
   "outputs": [],
   "source": []
  },
  {
   "cell_type": "code",
   "execution_count": null,
   "id": "daff1549",
   "metadata": {},
   "outputs": [],
   "source": []
  },
  {
   "cell_type": "code",
   "execution_count": null,
   "id": "97c6b1d8",
   "metadata": {},
   "outputs": [],
   "source": []
  }
 ],
 "metadata": {
  "kernelspec": {
   "display_name": "Python 3",
   "language": "python",
   "name": "python3"
  },
  "language_info": {
   "codemirror_mode": {
    "name": "ipython",
    "version": 3
   },
   "file_extension": ".py",
   "mimetype": "text/x-python",
   "name": "python",
   "nbconvert_exporter": "python",
   "pygments_lexer": "ipython3",
   "version": "3.13.7"
  }
 },
 "nbformat": 4,
 "nbformat_minor": 5
}
