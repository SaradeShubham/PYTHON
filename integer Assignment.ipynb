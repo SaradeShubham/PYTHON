{
 "cells": [
  {
   "cell_type": "code",
   "execution_count": 1,
   "id": "456d0547-2f43-4ec2-a407-6accd3d2bd09",
   "metadata": {},
   "outputs": [
    {
     "name": "stdout",
     "output_type": "stream",
     "text": [
      "Question 1: Calculate the product of first 10 natural numbers\n"
     ]
    }
   ],
   "source": [
    "# Question 1: Calculate the product of first 10 natural numbers\n",
    "print(\"Question 1: Calculate the product of first 10 natural numbers\")"
   ]
  },
  {
   "cell_type": "code",
   "execution_count": 13,
   "id": "2ca1105a-4dfd-4171-84aa-b0c70e269df2",
   "metadata": {},
   "outputs": [
    {
     "name": "stdout",
     "output_type": "stream",
     "text": [
      "product of 10 natural numbers: 3628800\n"
     ]
    }
   ],
   "source": [
    "product=1\n",
    "for i in range (1,11):\n",
    "    product*=i\n",
    "\n",
    "print(\"product of 10 natural numbers:\",product)"
   ]
  },
  {
   "cell_type": "code",
   "execution_count": null,
   "id": "9a58d19b-be9b-4d9b-beeb-008328dc29ac",
   "metadata": {},
   "outputs": [],
   "source": []
  },
  {
   "cell_type": "code",
   "execution_count": 14,
   "id": "99ec11b7-d558-471a-8ef4-83917af1d77a",
   "metadata": {},
   "outputs": [
    {
     "name": "stdout",
     "output_type": "stream",
     "text": [
      "\n",
      "Question 2: Find the remainder when 156 is divided by 7\n"
     ]
    }
   ],
   "source": [
    "print(\"\\nQuestion 2: Find the remainder when 156 is divided by 7\")"
   ]
  },
  {
   "cell_type": "code",
   "execution_count": 15,
   "id": "d03bbceb-d238-4bb4-b42d-d764bf812c2e",
   "metadata": {},
   "outputs": [
    {
     "data": {
      "text/plain": [
       "2"
      ]
     },
     "execution_count": 15,
     "metadata": {},
     "output_type": "execute_result"
    }
   ],
   "source": [
    "156%7"
   ]
  },
  {
   "cell_type": "code",
   "execution_count": 16,
   "id": "9315e7e7-4bda-4e76-89aa-045484b077dd",
   "metadata": {},
   "outputs": [
    {
     "name": "stdout",
     "output_type": "stream",
     "text": [
      "\n",
      "Question 3: Calculate the square of 25\n"
     ]
    }
   ],
   "source": [
    "print(\"\\nQuestion 3: Calculate the square of 25\")"
   ]
  },
  {
   "cell_type": "code",
   "execution_count": 17,
   "id": "bc66b6cd-0769-4995-93c2-4636b18516b7",
   "metadata": {},
   "outputs": [
    {
     "data": {
      "text/plain": [
       "625"
      ]
     },
     "execution_count": 17,
     "metadata": {},
     "output_type": "execute_result"
    }
   ],
   "source": [
    "25**2"
   ]
  },
  {
   "cell_type": "code",
   "execution_count": 18,
   "id": "9c7037ca-48c5-4c2f-a6d9-47315571ca9e",
   "metadata": {},
   "outputs": [
    {
     "name": "stdout",
     "output_type": "stream",
     "text": [
      "\n",
      "Question 4: Find the cube root of 125\n"
     ]
    }
   ],
   "source": [
    "print(\"\\nQuestion 4: Find the cube root of 125\")"
   ]
  },
  {
   "cell_type": "code",
   "execution_count": 57,
   "id": "d59964e7-b045-4c3f-8ef7-c100516e9358",
   "metadata": {},
   "outputs": [
    {
     "data": {
      "text/plain": [
       "4.920172216817289"
      ]
     },
     "execution_count": 57,
     "metadata": {},
     "output_type": "execute_result"
    }
   ],
   "source": [
    "125**0.33"
   ]
  },
  {
   "cell_type": "code",
   "execution_count": 20,
   "id": "1438915e-cc7b-42f9-a6c1-f230165ef165",
   "metadata": {},
   "outputs": [
    {
     "name": "stdout",
     "output_type": "stream",
     "text": [
      "\n",
      "Question 5: Calculate the sum of digits in number 12345\n"
     ]
    }
   ],
   "source": [
    "print(\"\\nQuestion 5: Calculate the sum of digits in number 12345\")"
   ]
  },
  {
   "cell_type": "code",
   "execution_count": 21,
   "id": "fe931ce8-2213-4a47-a040-abb2e09bcf25",
   "metadata": {},
   "outputs": [],
   "source": [
    "x=12345"
   ]
  },
  {
   "cell_type": "code",
   "execution_count": 22,
   "id": "dfc47397-6bef-4ca9-94af-4cc68563cb9e",
   "metadata": {},
   "outputs": [
    {
     "data": {
      "text/plain": [
       "12345"
      ]
     },
     "execution_count": 22,
     "metadata": {},
     "output_type": "execute_result"
    }
   ],
   "source": [
    "x"
   ]
  },
  {
   "cell_type": "code",
   "execution_count": 23,
   "id": "603f9161-8728-4678-ba2c-f5a82079fa7e",
   "metadata": {},
   "outputs": [
    {
     "data": {
      "text/plain": [
       "15"
      ]
     },
     "execution_count": 23,
     "metadata": {},
     "output_type": "execute_result"
    }
   ],
   "source": [
    "1+2+3+4+5"
   ]
  },
  {
   "cell_type": "code",
   "execution_count": null,
   "id": "c0a2d5cb-9d4f-49b2-b1d9-5399e7a4d9cd",
   "metadata": {},
   "outputs": [],
   "source": []
  },
  {
   "cell_type": "code",
   "execution_count": 35,
   "id": "f3705cb1-7d21-4ff4-bb4b-3b43ad0f3fc6",
   "metadata": {},
   "outputs": [
    {
     "name": "stdout",
     "output_type": "stream",
     "text": [
      "\n",
      "Question 6: Check if 97 is a prime number\n"
     ]
    }
   ],
   "source": [
    "print(\"\\nQuestion 6: Check if 97 is a prime number\")"
   ]
  },
  {
   "cell_type": "code",
   "execution_count": null,
   "id": "1f362107-ee3b-4e4b-ae43-85e061b455dc",
   "metadata": {},
   "outputs": [],
   "source": []
  },
  {
   "cell_type": "code",
   "execution_count": null,
   "id": "da181832-5d17-477c-87b6-b9541a10cbc9",
   "metadata": {},
   "outputs": [],
   "source": []
  },
  {
   "cell_type": "code",
   "execution_count": null,
   "id": "de4ab51d-83d4-451c-9956-270e2c0d2be8",
   "metadata": {},
   "outputs": [],
   "source": []
  },
  {
   "cell_type": "code",
   "execution_count": null,
   "id": "32d2d194-e412-4d5d-990d-8e0c0e565ae5",
   "metadata": {},
   "outputs": [],
   "source": []
  },
  {
   "cell_type": "code",
   "execution_count": 36,
   "id": "144ab294-39f5-43d2-a6a0-7944a623e755",
   "metadata": {},
   "outputs": [
    {
     "name": "stdout",
     "output_type": "stream",
     "text": [
      "\n",
      "Question 7: Find the factorial of 8\n"
     ]
    }
   ],
   "source": [
    "print(\"\\nQuestion 7: Find the factorial of 8\")"
   ]
  },
  {
   "cell_type": "code",
   "execution_count": 41,
   "id": "31ff4a41-ffb4-4510-a30c-46fb5de42ce9",
   "metadata": {},
   "outputs": [
    {
     "name": "stdout",
     "output_type": "stream",
     "text": [
      "factorial of 8 natural numbers: 40320\n"
     ]
    }
   ],
   "source": [
    "x=1\n",
    "for i in range (1,9):\n",
    "    x*=i\n",
    "\n",
    "print(\"factorial of 8 natural numbers:\",x)"
   ]
  },
  {
   "cell_type": "code",
   "execution_count": 42,
   "id": "7ef9130e-2a67-4484-81c3-8e1253a42688",
   "metadata": {},
   "outputs": [
    {
     "name": "stdout",
     "output_type": "stream",
     "text": [
      "\n",
      "Question 8: Calculate the average of numbers: 15, 23, 31, 42, 56\n"
     ]
    }
   ],
   "source": [
    "print(\"\\nQuestion 8: Calculate the average of numbers: 15, 23, 31, 42, 56\")"
   ]
  },
  {
   "cell_type": "code",
   "execution_count": 47,
   "id": "1192abd1-ba78-4f0a-9b27-254fef69da93",
   "metadata": {},
   "outputs": [
    {
     "name": "stdout",
     "output_type": "stream",
     "text": [
      "33.4\n"
     ]
    }
   ],
   "source": [
    "x=[15,23,31,42,56]\n",
    "avg=sum(x)/5\n",
    "print(avg)"
   ]
  },
  {
   "cell_type": "code",
   "execution_count": 46,
   "id": "d7783c4d-6421-4055-afd1-22f33ebf1102",
   "metadata": {},
   "outputs": [],
   "source": []
  },
  {
   "cell_type": "code",
   "execution_count": null,
   "id": "64072a5f-54b4-4df9-bf9b-cccf45fd8083",
   "metadata": {},
   "outputs": [],
   "source": []
  },
  {
   "cell_type": "code",
   "execution_count": null,
   "id": "48c6a1d4-c8e1-4ad0-91ab-43619cf8b890",
   "metadata": {},
   "outputs": [],
   "source": []
  },
  {
   "cell_type": "code",
   "execution_count": null,
   "id": "8971dcb3-ec79-48c6-8fba-1696c805d155",
   "metadata": {},
   "outputs": [],
   "source": []
  },
  {
   "cell_type": "code",
   "execution_count": null,
   "id": "b4127b06-b695-4900-9ac8-8ffc387fa0dc",
   "metadata": {},
   "outputs": [],
   "source": []
  },
  {
   "cell_type": "code",
   "execution_count": null,
   "id": "f916692c-bf29-4eff-a460-f3d322007d20",
   "metadata": {},
   "outputs": [],
   "source": []
  },
  {
   "cell_type": "code",
   "execution_count": null,
   "id": "b66d8109-dfda-4769-9e08-0743a636db96",
   "metadata": {},
   "outputs": [],
   "source": []
  },
  {
   "cell_type": "code",
   "execution_count": 48,
   "id": "37ef32b0-8b10-4414-b8ed-89635f8e53fc",
   "metadata": {},
   "outputs": [
    {
     "name": "stdout",
     "output_type": "stream",
     "text": [
      "\n",
      "Question 10: Calculate the sum of first 20 odd numbers\n"
     ]
    }
   ],
   "source": [
    "print(\"\\nQuestion 10: Calculate the sum of first 20 odd numbers\")"
   ]
  },
  {
   "cell_type": "code",
   "execution_count": 53,
   "id": "25460f25-450f-4ed9-a484-0e191e7369bc",
   "metadata": {},
   "outputs": [
    {
     "name": "stdout",
     "output_type": "stream",
     "text": [
      "1\n",
      "3\n",
      "5\n",
      "7\n",
      "9\n",
      "11\n",
      "13\n",
      "15\n",
      "17\n",
      "19\n",
      "21\n",
      "23\n",
      "25\n",
      "27\n",
      "29\n",
      "31\n",
      "33\n",
      "35\n",
      "37\n",
      "39\n",
      "41\n",
      "43\n"
     ]
    }
   ],
   "source": [
    "for i in range(1,45,2):\n",
    "    print(i)\n"
   ]
  },
  {
   "cell_type": "code",
   "execution_count": 55,
   "id": "2ee8bc9f-a831-42f6-8fa8-3c9341815ac5",
   "metadata": {},
   "outputs": [
    {
     "name": "stdout",
     "output_type": "stream",
     "text": [
      "400\n"
     ]
    }
   ],
   "source": [
    "x=0\n",
    "for i in range(1,40,2):\n",
    "    x+=i\n",
    "print(x)"
   ]
  },
  {
   "cell_type": "code",
   "execution_count": null,
   "id": "33223187-f4ce-45de-9ad1-0867d9cee075",
   "metadata": {},
   "outputs": [],
   "source": []
  }
 ],
 "metadata": {
  "kernelspec": {
   "display_name": "Python 3 (ipykernel)",
   "language": "python",
   "name": "python3"
  },
  "language_info": {
   "codemirror_mode": {
    "name": "ipython",
    "version": 3
   },
   "file_extension": ".py",
   "mimetype": "text/x-python",
   "name": "python",
   "nbconvert_exporter": "python",
   "pygments_lexer": "ipython3",
   "version": "3.13.5"
  }
 },
 "nbformat": 4,
 "nbformat_minor": 5
}
