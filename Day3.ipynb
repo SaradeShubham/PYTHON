{
 "cells": [
  {
   "cell_type": "code",
   "execution_count": null,
   "id": "41e3b0a1",
   "metadata": {},
   "outputs": [],
   "source": []
  },
  {
   "cell_type": "markdown",
   "id": "7b54aad2",
   "metadata": {},
   "source": [
    "##Input function\n",
    " The input fuction is used to get input from the user.\n",
    "\n",
    " By default , whatever you enter using inout() is treated as a string.\n",
    "\n",
    " "
   ]
  },
  {
   "cell_type": "code",
   "execution_count": 11,
   "id": "3a6c1d7c",
   "metadata": {},
   "outputs": [
    {
     "name": "stdout",
     "output_type": "stream",
     "text": [
      "<class 'str'>\n",
      "\n",
      "welcome \n"
     ]
    }
   ],
   "source": [
    "name= input(\"Enter Your Name: \")\n",
    "print(type(name))\n",
    "print(name)\n",
    "print(\"welcome \"+ name)"
   ]
  },
  {
   "cell_type": "code",
   "execution_count": 12,
   "id": "ca61d4e7",
   "metadata": {},
   "outputs": [
    {
     "name": "stdout",
     "output_type": "stream",
     "text": [
      "Now you are 30 years old\n"
     ]
    }
   ],
   "source": [
    "age= input(\"Enter Your age\")\n",
    "print(\"Now you are \" + age+ \" years old\")"
   ]
  },
  {
   "cell_type": "code",
   "execution_count": null,
   "id": "c7ad153b",
   "metadata": {},
   "outputs": [],
   "source": [
    "##int casting int()= this will be convert datatype in to integer\n",
    "age=int(input(\"Enter Your age\"))\n",
    "print(age)\n",
    "print(type(age))"
   ]
  },
  {
   "cell_type": "code",
   "execution_count": null,
   "id": "33c29844",
   "metadata": {},
   "outputs": [
    {
     "name": "stdout",
     "output_type": "stream",
     "text": [
      "30\n",
      "<class 'int'>\n",
      "1995\n"
     ]
    }
   ],
   "source": [
    "age=int(input(\"Enter Your age\"))\n",
    "print(age)\n",
    "print(type(age))\n",
    "\n",
    "Birth_year= 2025-age\n",
    "print(Birth_year)"
   ]
  },
  {
   "cell_type": "code",
   "execution_count": 3,
   "id": "4a6729fc",
   "metadata": {},
   "outputs": [
    {
     "name": "stdout",
     "output_type": "stream",
     "text": [
      "you are  5.7  ft tall.\n",
      "<class 'float'>\n"
     ]
    }
   ],
   "source": [
    "### float Casting float()= it cast values  in float\n",
    "height=float(input(\"Enter Your Height in ft : \"))\n",
    "print(\"you are \",height,\" ft tall.\")\n",
    "print(type(height))"
   ]
  },
  {
   "cell_type": "code",
   "execution_count": 4,
   "id": "56da81d7",
   "metadata": {},
   "outputs": [
    {
     "name": "stdout",
     "output_type": "stream",
     "text": [
      "2030\n"
     ]
    }
   ],
   "source": [
    "num1= input(\"Enter First number: \")\n",
    "num2= input(\"Enter SSecond number: \")\n",
    "sum= num1+num2\n",
    "print(sum)"
   ]
  },
  {
   "cell_type": "code",
   "execution_count": 5,
   "id": "2a48881e",
   "metadata": {},
   "outputs": [
    {
     "name": "stdout",
     "output_type": "stream",
     "text": [
      "50\n"
     ]
    }
   ],
   "source": [
    "num1= int(input(\"Enter First number: \"))\n",
    "num2= int(input(\"Enter SSecond number: \"))\n",
    "sum= num1+num2\n",
    "print(sum)"
   ]
  },
  {
   "cell_type": "code",
   "execution_count": 10,
   "id": "53018254",
   "metadata": {},
   "outputs": [
    {
     "name": "stdout",
     "output_type": "stream",
     "text": [
      "area of rectangle is: 7.819999999999999 sqmtrs\n"
     ]
    }
   ],
   "source": [
    "## Calculate area of rectangle\n",
    "\n",
    "length=float (input(\"enter length in mtr:\"))\n",
    "width= float (input(\"enter width in mtrs: \"))\n",
    "area= length*width\n",
    "print(\"area of rectangle is:\",area, \"sqmtrs\")"
   ]
  },
  {
   "cell_type": "code",
   "execution_count": 11,
   "id": "0518eced",
   "metadata": {},
   "outputs": [
    {
     "name": "stdout",
     "output_type": "stream",
     "text": [
      "shubham  next year you will be 31\n"
     ]
    }
   ],
   "source": [
    "## Calculate Age next Year (str+int)\n",
    "name=input(\"enter your name: \")\n",
    "age= int(input(\"enter your age: \"))\n",
    "print(name, \" next year you will be\", age+1)"
   ]
  },
  {
   "cell_type": "markdown",
   "id": "c59e956e",
   "metadata": {},
   "source": [
    "##Indexing and Slicing\n",
    "\n",
    "-- Indexing:- Accessing a single character at a specific aposition (index) , python use 0- based \n",
    "   indexing (first char is at index 0).\n",
    "   \n",
    "   Negative index :- cout from the end (-1 is the last character )\n",
    "\n",
    "\n",
    "--Slicing:- Extracting a portion (substring) of the string using [start:step:step]\n"
   ]
  },
  {
   "cell_type": "code",
   "execution_count": 1,
   "id": "5e694867",
   "metadata": {},
   "outputs": [
    {
     "data": {
      "text/plain": [
       "23"
      ]
     },
     "execution_count": 1,
     "metadata": {},
     "output_type": "execute_result"
    }
   ],
   "source": [
    "#slicing \n",
    "\n",
    "#get first 5 characters of tech_stack\n",
    "\n",
    "tech_stack = \"Data Science ans Python\" \n",
    "\n",
    "len(tech_stack)"
   ]
  },
  {
   "cell_type": "code",
   "execution_count": null,
   "id": "07a0acbf",
   "metadata": {},
   "outputs": [
    {
     "ename": "TypeError",
     "evalue": "string indices must be integers, not 'tuple'",
     "output_type": "error",
     "traceback": [
      "\u001b[31m---------------------------------------------------------------------------\u001b[39m",
      "\u001b[31mTypeError\u001b[39m                                 Traceback (most recent call last)",
      "\u001b[36mCell\u001b[39m\u001b[36m \u001b[39m\u001b[32mIn[8]\u001b[39m\u001b[32m, line 3\u001b[39m\n\u001b[32m      1\u001b[39m \u001b[38;5;66;03m#for fetching 5 characters of tech_stack\u001b[39;00m\n\u001b[32m----> \u001b[39m\u001b[32m3\u001b[39m first_5= \u001b[43mtech_stack\u001b[49m\u001b[43m[\u001b[49m\u001b[32;43m0\u001b[39;49m\u001b[43m:\u001b[49m\u001b[32;43m5\u001b[39;49m\u001b[43m,\u001b[49m\u001b[32;43m0\u001b[39;49m\u001b[43m:\u001b[49m\u001b[32;43m5\u001b[39;49m\u001b[43m]\u001b[49m\n\u001b[32m      4\u001b[39m \u001b[38;5;28mprint\u001b[39m(first_5)\n",
      "\u001b[31mTypeError\u001b[39m: string indices must be integers, not 'tuple'"
     ]
    }
   ],
   "source": [
    "#for fetching 5 characters of tech_stack\n",
    "\n",
    "first_5= tech_stack[0:5]\n",
    "print(first_5)"
   ]
  },
  {
   "cell_type": "code",
   "execution_count": 7,
   "id": "dfa9a415",
   "metadata": {},
   "outputs": [
    {
     "name": "stdout",
     "output_type": "stream",
     "text": [
      "Edukr\n"
     ]
    }
   ],
   "source": [
    "institute= \"Edukron\"\n",
    "first_5= institute[0:5]\n",
    "print(first_5)"
   ]
  },
  {
   "cell_type": "code",
   "execution_count": 9,
   "id": "9cf4d617",
   "metadata": {},
   "outputs": [
    {
     "name": "stdout",
     "output_type": "stream",
     "text": [
      "Engineering\n"
     ]
    }
   ],
   "source": [
    "course_name=\"Data Engineering\"\n",
    "slice_Engineering= course_name[5:]\n",
    "print(slice_Engineering)"
   ]
  },
  {
   "cell_type": "code",
   "execution_count": 10,
   "id": "1a60ce9e",
   "metadata": {},
   "outputs": [
    {
     "name": "stdout",
     "output_type": "stream",
     "text": [
      "Engineering\n"
     ]
    }
   ],
   "source": [
    "course_name=\"Data Engineering Course\"\n",
    "slice_Engineering= course_name[5:16]\n",
    "print(slice_Engineering)"
   ]
  },
  {
   "cell_type": "code",
   "execution_count": 11,
   "id": "7818602f",
   "metadata": {},
   "outputs": [
    {
     "name": "stdout",
     "output_type": "stream",
     "text": [
      "ata Science and Python is fu\n"
     ]
    }
   ],
   "source": [
    "tech_stack= \"Data Science and Python is fun\"\n",
    "#output: ata Science and Python is fu\n",
    "\n",
    "new_stack=tech_stack[1:-1]\n",
    "print(new_stack)"
   ]
  },
  {
   "cell_type": "code",
   "execution_count": 12,
   "id": "4a1b6f7a",
   "metadata": {},
   "outputs": [
    {
     "name": "stdout",
     "output_type": "stream",
     "text": [
      "Dt cec n yhni u\n"
     ]
    }
   ],
   "source": [
    "#varible[start:step:step]\n",
    "#Fetch evry second character of tach_stack\n",
    "tech_stack= \"Data Science and Python is fun\"\n",
    "step_2=tech_stack[::2]\n",
    "print(step_2)\n"
   ]
  },
  {
   "cell_type": "code",
   "execution_count": 14,
   "id": "3e695989",
   "metadata": {},
   "outputs": [
    {
     "name": "stdout",
     "output_type": "stream",
     "text": [
      "Dacn dyoif\n"
     ]
    }
   ],
   "source": [
    "tech_stack= \"Data Science and Python is fun\"\n",
    "step_2=tech_stack[::3]\n",
    "print(step_2)\n"
   ]
  },
  {
   "cell_type": "code",
   "execution_count": 19,
   "id": "82f593b1",
   "metadata": {},
   "outputs": [
    {
     "name": "stdout",
     "output_type": "stream",
     "text": [
      "norkudE\n"
     ]
    }
   ],
   "source": [
    "#Reverse the institute name using slicing\n",
    "institute= \"Edukron\"\n",
    "rev_institute=institute[::-1]\n",
    "print(rev_institute)"
   ]
  },
  {
   "cell_type": "code",
   "execution_count": 20,
   "id": "bf22e19b",
   "metadata": {},
   "outputs": [
    {
     "name": "stdout",
     "output_type": "stream",
     "text": [
      "nuf si nohtyP dna ecneicS ataD\n"
     ]
    }
   ],
   "source": [
    "tech_stack= \"Data Science and Python is fun\"\n",
    "rev_tech_stack=tech_stack[::-1]\n",
    "print(rev_tech_stack)"
   ]
  },
  {
   "cell_type": "code",
   "execution_count": null,
   "id": "e707a8f8",
   "metadata": {},
   "outputs": [],
   "source": []
  },
  {
   "cell_type": "code",
   "execution_count": null,
   "id": "57a1777f",
   "metadata": {},
   "outputs": [],
   "source": []
  },
  {
   "cell_type": "code",
   "execution_count": null,
   "id": "f3530124",
   "metadata": {},
   "outputs": [],
   "source": []
  },
  {
   "cell_type": "code",
   "execution_count": null,
   "id": "25f7d2b8",
   "metadata": {},
   "outputs": [],
   "source": []
  },
  {
   "cell_type": "code",
   "execution_count": null,
   "id": "e2509cf0",
   "metadata": {},
   "outputs": [],
   "source": []
  },
  {
   "cell_type": "code",
   "execution_count": null,
   "id": "df8d41b8",
   "metadata": {},
   "outputs": [],
   "source": []
  },
  {
   "cell_type": "code",
   "execution_count": null,
   "id": "aa83f798",
   "metadata": {},
   "outputs": [],
   "source": []
  },
  {
   "cell_type": "code",
   "execution_count": null,
   "id": "cacf52e7",
   "metadata": {},
   "outputs": [],
   "source": []
  },
  {
   "cell_type": "code",
   "execution_count": null,
   "id": "070bc318",
   "metadata": {},
   "outputs": [],
   "source": []
  },
  {
   "cell_type": "code",
   "execution_count": null,
   "id": "e2f8c494",
   "metadata": {},
   "outputs": [],
   "source": []
  },
  {
   "cell_type": "code",
   "execution_count": null,
   "id": "721ffde9",
   "metadata": {},
   "outputs": [],
   "source": []
  }
 ],
 "metadata": {
  "kernelspec": {
   "display_name": "Python 3",
   "language": "python",
   "name": "python3"
  },
  "language_info": {
   "codemirror_mode": {
    "name": "ipython",
    "version": 3
   },
   "file_extension": ".py",
   "mimetype": "text/x-python",
   "name": "python",
   "nbconvert_exporter": "python",
   "pygments_lexer": "ipython3",
   "version": "3.13.7"
  }
 },
 "nbformat": 4,
 "nbformat_minor": 5
}
